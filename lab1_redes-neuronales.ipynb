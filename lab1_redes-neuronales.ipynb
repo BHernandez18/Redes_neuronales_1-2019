{
 "cells": [
  {
   "cell_type": "markdown",
   "metadata": {},
   "source": [
    "Benjamín Hernández Cortés - viernes 03 de mayo de 2019 \n",
    "\n",
    "\n",
    "## Laboratorio 1 - Fundamentos de Aprendizaje Profundo con Redes Neuronales\n",
    "\n",
    "<p style='text-align: justify;'>\n",
    "El presente código está orientado hacia la implementación de un perceptrón simple o red neuronal de una sola capa (Single-Layer Neural Network). En primera oportunidad, se utilizará el perceptrón para clasificar y emular compuertas lógicas AND, OR y XOR. Luego, se realizará una clasificación trabajando con un conjunto de datos que contiene 3 atributos: un largo, un ancho y una letra asociada.\n",
    "</p>\n",
    "\n",
    "### Perceptrón simple bajo compuertas lógicas\n",
    "\n",
    "#### Importación de bibliotecas\n",
    "\n",
    "Las bibliotecas a emplear son:\n",
    "- **Numpy:** Herramienta de computación científica, que nos permitirá trabajar en base a vectores y matrices.\n",
    "- **Pandas:** Para la manipulación y lectura de datos"
   ]
  },
  {
   "cell_type": "code",
   "execution_count": 8,
   "metadata": {},
   "outputs": [],
   "source": [
    "import numpy as np\n",
    "import pandas as pd"
   ]
  },
  {
   "cell_type": "markdown",
   "metadata": {},
   "source": [
    "#### Definición de la clase Perceptron "
   ]
  },
  {
   "cell_type": "code",
   "execution_count": null,
   "metadata": {},
   "outputs": [],
   "source": []
  },
  {
   "cell_type": "code",
   "execution_count": null,
   "metadata": {},
   "outputs": [],
   "source": []
  }
 ],
 "metadata": {
  "kernelspec": {
   "display_name": "Python 3",
   "language": "python",
   "name": "python3"
  },
  "language_info": {
   "codemirror_mode": {
    "name": "ipython",
    "version": 3
   },
   "file_extension": ".py",
   "mimetype": "text/x-python",
   "name": "python",
   "nbconvert_exporter": "python",
   "pygments_lexer": "ipython3",
   "version": "3.7.3"
  }
 },
 "nbformat": 4,
 "nbformat_minor": 2
}

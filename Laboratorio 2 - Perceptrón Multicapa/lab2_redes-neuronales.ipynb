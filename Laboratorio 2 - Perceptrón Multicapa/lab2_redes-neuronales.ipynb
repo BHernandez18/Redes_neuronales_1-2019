{
 "cells": [
  {
   "cell_type": "markdown",
   "metadata": {},
   "source": [
    "viernes 03 de mayo de 2019  \n",
    "  \n",
    "_Benjamín Hernández Cortés_ - _Juan Pablo Rojas Rojas_  \n",
    "_Departamento de Ingeniería Informática (DIINF)_  \n",
    "_Universidad de Santiago de Chile (USACH)_\n",
    "\n",
    "\n",
    "## Laboratorio 2 - Fundamentos de Aprendizaje Profundo con Redes Neuronales\n",
    "___\n",
    "\n",
    "El presente código está orientado hacia la implementación de un perceptrón multicapa o red neuronal de múltiples capas (Multi-Layer Neural Network). En primera oportunidad, se utilizará el perceptrón para clasificar y emular compuertas lógicas AND, OR y XOR, tanto de 2 como de 4 entradas. Luego, se realizará una clasificación trabajando con el conjunto de datos [wine](https://archive.ics.uci.edu/ml/datasets/wine) provenientes de la [UCI Machine Learning Repository](https://archive.ics.uci.edu/ml/index.php) que contiene 13 atributos en total y que intentan describir clases de vinos provenientes de 3 cultivos distintos.\n",
    "\n",
    "\n",
    "#### Importación de bibliotecas\n",
    "---\n",
    "\n",
    "Las bibliotecas a emplear son:\n",
    "- **Numpy:** Herramienta de computación científica, que nos permitirá trabajar a través de vectores\n",
    "- **Pandas:** Para la manipulación y lectura de datos\n",
    "- **Matplotlib:** Para la visualización gráfica de diversos datos de interés\n",
    "- **Itertools:** Como herramienta para iteración de objetos\n",
    "- **Scikit-learn:** Para la obtención del dataset _wine_ y el uso de herramientas de evaluación de desempeño para los perceptrones multicapa."
   ]
  },
  {
   "cell_type": "code",
   "execution_count": 1,
   "metadata": {},
   "outputs": [],
   "source": [
    "import numpy as np\n",
    "import pandas as pd\n",
    "import matplotlib.pyplot as plt\n",
    "import itertools as its\n",
    "import sklearn as skl\n",
    "\n",
    "from sklearn.datasets import load_wine\n",
    "from sklearn import preprocessing"
   ]
  },
  {
   "cell_type": "markdown",
   "metadata": {},
   "source": [
    "#### Definición de funciones globales\n",
    "---\n",
    "\n",
    "Para el presente laboratorio se emplearan las siguientes funciones de forma global, las cual estan enfocadas al cálculo de ciertos valores a partir de las entradas recibidas:\n",
    "\n",
    "| <p style='text-align: left;'>**Función**</p>  | <p style='text-align: left;'>**Descripción**</p> |\n",
    "| ------------ | ------------ |\n",
    "| `preprocessing(dataset)` |  <p style='text-align: justify;'>Se realiza el procesamiento del data set, en primer lugar se aplica el procedimiento de estandarizacion o eliminación media y escala de varianza con el objetivo de tener una varianza total acorde a los datos objetivos. Por ultimo se aplica normalización de datos</p>|"
   ]
  },
  {
   "cell_type": "code",
   "execution_count": 2,
   "metadata": {},
   "outputs": [],
   "source": [
    "def preprocessing_data(dataset):\n",
    "    data_col_names = dataset.columns.values\n",
    "    for name in data_col_names[:-1]:\n",
    "        a[name] = preprocessing.scale(a[name])\n",
    "        a[name] = ((a[name] - a[name].min())/(a[name].max()-a[name].min())) \n",
    "    return dataset"
   ]
  },
  {
   "cell_type": "markdown",
   "metadata": {},
   "source": [
    "#### 1. Implementar dos funciones de activación no lineal y una lineal.\n",
    "\n",
    "| <p style='text-align: left;'>**Función**</p>  | <p style='text-align: left;'>**Descripción**</p> |\n",
    "| ------------ | ------------ |\n",
    "| `sigmoid(x)` |  <p style='text-align: justify;'>Se calcula el valor para la función sigmoide (o logsig) aplicada a un conjunto de vectores $x$</p>|\n",
    "| `sigmoid_derivative(x)` |  <p style='text-align: justify;'>Se calcula el valor de la derivada para la función sigmoide (o logsig) aplicada a un conjunto de vectores $x$</p>|\n",
    "| `relu(x)` |  <p style='text-align: justify;'>Se calcula el valor para la función ReLU aplicada a un conjunto de vectores $x$</p>|\n",
    "| `relu_derivative(x)` |  <p style='text-align: justify;'>Se calcula el valor de la derivada para la función ReLU aplicada a un conjunto de vectores $x$</p>|"
   ]
  },
  {
   "cell_type": "code",
   "execution_count": 3,
   "metadata": {},
   "outputs": [],
   "source": [
    "def sigmoid(x):\n",
    "    return 1 / (1 + np.exp(-x))\n",
    "\n",
    "def sigmoid_derivative(x):\n",
    "    return x * (1 - x)\n",
    "\n",
    "def relu(x):\n",
    "    return np.maximum(0, x)\n",
    "\n",
    "def relu_derivative(x):\n",
    "    return 1 * (x > 0)\n",
    "\n",
    "activation_functions = {\n",
    "    'sigmoid': sigmoid,\n",
    "    'relu': relu\n",
    "}\n",
    "\n",
    "activation_functions_derivatives = {\n",
    "    'sigmoid': sigmoid_derivative,\n",
    "    'relu': relu_derivative\n",
    "}"
   ]
  },
  {
   "cell_type": "markdown",
   "metadata": {},
   "source": [
    "#### Definición de la clase TruthTableGenerator\n",
    "---\n",
    "\n",
    "La clase TruthTableGenerator permite generar tablas de verdad para 3 tipos de compuertas lógicas: AND, OR y XOR.\n",
    "\n",
    "En cuanto a las funciones definidas, se tiene:\n",
    "\n",
    "| <p style='text-align: left;'>**Función**</p>  | <p style='text-align: left;'>**Descripción**</p>  |\n",
    "| ------------ | ------------ |\n",
    "| `generate_table(n_inputs, logic_gate)`  |  <p style='text-align: justify;'>Genera una tabla de verdad de n-variables (*n_inputs*), basada en una compuerta lógica determinada (*logic_gate*)</p>|"
   ]
  },
  {
   "cell_type": "code",
   "execution_count": 4,
   "metadata": {},
   "outputs": [],
   "source": [
    "class TruthTableGenerator():\n",
    "    \n",
    "    def generate_table(n_inputs, logic_gate):\n",
    "        table = its.product([0,1], repeat = n_inputs)\n",
    "        table = pd.DataFrame(table)\n",
    "        results = []\n",
    "        \n",
    "        for i in range(n_inputs ** 2):\n",
    "            row = table.loc[[i]].values[0]\n",
    "            if logic_gate == 'AND': results.append( int(all(row)) )\n",
    "            elif logic_gate == 'OR': results.append( int(any(row)) )\n",
    "            elif logic_gate == 'XOR':\n",
    "                tmp_result = row[0] ^ row[1]\n",
    "                for j in range(2, n_inputs):\n",
    "                    tmp_result = tmp_result ^ row[j]\n",
    "                results.append( tmp_result )\n",
    "            else: return None\n",
    "        \n",
    "        table['result'] = results\n",
    "        return table"
   ]
  },
  {
   "cell_type": "markdown",
   "metadata": {},
   "source": [
    "#### Definición de la clase MLP\n",
    "---\n",
    "La clase MLP (Multilayer Perceptron) permite representar a un perceptrón multicapa configurable en el número de capas, número de neuronas por capa y las funciones de activación para cada capa:\n",
    "\n",
    "| <p style='text-align: left;'>**Parámetro**</p> | <p style='text-align: left;'>**Descripción**</p> |\n",
    "| ------------ | ------------ |\n",
    "| `network_config` |  <p style='text-align: justify;'>Lista de enteros. Define la cantidad de neuronas por cada capa; capas que debe incluir la de entrada, las ocultas y la de salida.</p>|\n",
    "| `functions` | <p style='text-align: justify;'>Lista de strings. Define las funciones de activación que empleará cada capa de la red, las cuales pueden ser tangente hiperbólica (_tanh_), sigmoide (_sigmoid_) o ReLU (_relu_).</p> |\n",
    "\n",
    "En cuanto a las funciones definidas, se tiene:\n",
    "\n",
    "| <p style='text-align: left;'>**Función**</p>  | <p style='text-align: left;'>**Descripción**</p> |\n",
    "| ------------ | ------------ |\n",
    "| `feed_forward(x)` |  <p style='text-align: justify;'>Realiza una predicción para un conjunto de datos (*x*), empleando los valores actuales de los pesos (*weights*) asociados a la capa.</p>|\n",
    "| `back_propagation(y, target, learning_rate)` |  <p style='text-align: justify;'>Realiza el ajuste de los pesos de la red, según un tasa de aprendizaje (*learning_rate*) y considerando un vector de salidas esperadas (*target*).</p>|\n",
    "| `training(data, targets, learning_rate, epochs)` |  <p style='text-align: justify;'>Entrena la red neuronal, mediante un conjunto de datos inicial (*data*) a comparar con un conjunto de salidas esperadas (*targets*), empleando una tasa de aprendizaje (*learning_rate*) y una cantidad de iteraciones o épocas (*epochs*) definida por el usuario.</p>|\n",
    "| `predict_single_input(x)` |  <p style='text-align: justify;'>Realiza una predicción para un único dato (*x*).</p>|\n",
    "| `predict(x)` |  <p style='text-align: justify;'>Realiza una predicción para un conjunto de datos (*x*).</p>|\n"
   ]
  },
  {
   "cell_type": "code",
   "execution_count": 8,
   "metadata": {},
   "outputs": [
    {
     "name": "stdout",
     "output_type": "stream",
     "text": [
      "epochs: 10000\n",
      "epochs: 20000\n",
      "epochs: 30000\n"
     ]
    },
    {
     "data": {
      "image/png": "[encoded data removed]",
      "text/plain": [
       "<Figure size 432x288 with 1 Axes>"
      ]
     },
     "metadata": {
      "needs_background": "light"
     },
     "output_type": "display_data"
    }
   ],
   "source": [
    "class MLP:\n",
    "    def __init__(self, network_config, functions):\n",
    "        self.layers = len(network_config)\n",
    "        self.steps_per_epoch = 1\n",
    "        self.network_config = network_config\n",
    "        self.activity = []\n",
    "        self.activity_derivative = []\n",
    "        self.weights = []\n",
    "\n",
    "        for layer in range(self.layers - 1):\n",
    "            self.activity.append(activation_functions[functions[layer]])\n",
    "            self.activity_derivative.append(activation_functions_derivatives[functions[layer]])\n",
    "            w = np.random.rand(network_config[layer] + 1, network_config[layer + 1]) - 1\n",
    "            w *= np.sqrt(1 / network_config[layer] + network_config[layer + 1])\n",
    "            self.weights.append(w)\n",
    "    \n",
    "    def feed_forward(self, x):\n",
    "        y = x\n",
    "\n",
    "        for i in range(len(self.weights) - 1):\n",
    "            activation = np.dot(y[i], self.weights[i])\n",
    "            activity = self.activity[i](activation)\n",
    "            activity = np.concatenate((np.ones(1), np.array(activity)))\n",
    "            y.append(activity)\n",
    "\n",
    "        activation = np.dot(y[-1], self.weights[-1])\n",
    "        activity = self.activity[-1](activation)\n",
    "        y.append(activity)\n",
    "        return y\n",
    "    \n",
    "    def back_propagation(self, y, target, learning_rate):\n",
    "        error = target - y[-1]\n",
    "        delta_vector = [error * self.activity_derivative[-1](y[-1])]\n",
    "        for i in range(self.layers-2, 0, -1):\n",
    "            error = np.dot(delta_vector[-1], self.weights[i][1:].T)\n",
    "            error = error * self.activity_derivative[i](y[i][1:])\n",
    "            delta_vector.append(error)\n",
    "\n",
    "        delta_vector.reverse()\n",
    "        for i in range(len(self.weights)):\n",
    "            layer = y[i].reshape(1, self.network_config[i] + 1)\n",
    "            delta = delta_vector[i].reshape(1, self.network_config[i + 1])\n",
    "            self.weights[i] += learning_rate * np.dot(layer.T, delta)\n",
    "    \n",
    "    def training(self, data, targets, learning_rate=0.1, epochs=100):\n",
    "        ones = np.ones((1, data.shape[0]))\n",
    "        Z = np.concatenate((ones.T, data), axis=1)\n",
    "        errors = []\n",
    "        \n",
    "        for k in range(epochs):\n",
    "            if (k+1) % 10000 == 0:\n",
    "                print('epochs: {}'.format(k+1))\n",
    "        \n",
    "            sample = np.random.randint(X.shape[0])\n",
    "            x = [Z[sample]]\n",
    "            y = self.feed_forward(x)\n",
    "            target = targets[sample]\n",
    "            errors.append(np.absolute(y[-1] - target))\n",
    "            self.back_propagation(y, target, learning_rate)\n",
    "        \n",
    "        return errors\n",
    "    \n",
    "    def predict_single_input(self, x):\n",
    "        val = np.concatenate((np.ones(1).T, np.array(x)))\n",
    "        for i in range(0, len(self.weights)):\n",
    "            val = self.activity[i](np.dot(val, self.weights[i]))\n",
    "            val = np.concatenate((np.ones(1).T, np.array(val)))\n",
    "        return val[1]\n",
    "    \n",
    "    def predict(self, X):\n",
    "        Y = np.array([]).reshape(0, self.network_config[-1])\n",
    "        for x in X:\n",
    "            y = np.array([[self.predict_single_input(x)]])\n",
    "            Y = np.vstack((Y,y))\n",
    "        return Y\n",
    "            \n",
    "                \n",
    "def sklearn_to_df(sklearn_dataset):\n",
    "    df = pd.DataFrame(sklearn_dataset.data, columns=sklearn_dataset.feature_names)\n",
    "    df['target'] = pd.Series(sklearn_dataset.target)\n",
    "    return df\n",
    "\n",
    "    \n",
    "\n",
    "a = sklearn_to_df(load_wine())\n",
    "b = np.array(TruthTableGenerator.generate_table(n_inputs=2, logic_gate='XOR'))\n",
    "\n",
    "perceptron = MLP([2,2,1], ['sigmoid','sigmoid','sigmoid'])\n",
    "X = b[:,:-1]\n",
    "y = b[:,-1]\n",
    "\n",
    "\n",
    "error = perceptron.training(X, y, epochs=30000)\n",
    "\n",
    "\n",
    "plt.plot(error)\n",
    "plt.show()"
   ]
  },
  {
   "cell_type": "markdown",
   "metadata": {},
   "source": [
    "#### 2. Implementar   una   red   MLP   con   solo   una   capa   oculta   de   forma   genérica   para   las  diferentes funciones de activación. "
   ]
  },
  {
   "cell_type": "code",
   "execution_count": 6,
   "metadata": {},
   "outputs": [],
   "source": [
    "#Entradas: 4\n",
    "#Neuronas: 2 capa escondida,1 capa salida\n",
    "#Activación: Sigmoid\n",
    "perceptron_sigmoid_4 = MLP([4,2,1], ['sigmoid','sigmoid','sigmoid'])\n",
    "#Entradas: 4\n",
    "#Neuronas: 2 capa escondida,1 capa salida\n",
    "#Activación: Relu\n",
    "perceptron_relu_4 = MLP([4,2,1], ['relu','relu','relu'])\n",
    "#____________________________________________________________________#\n",
    "#Entradas: 2\n",
    "#Neuronas: 2 capa escondida,1 capa salida\n",
    "#Activación: Relu\n",
    "perceptron_sigmoid_2 = MLP([2,2,1], ['sigmoid','sigmoid','sigmoid'])\n",
    "#Entradas: 2\n",
    "#Neuronas: 2 capa escondida,1 capa salida\n",
    "#Activación: Relu\n",
    "perceptron_relu_2 = MLP([2,2,1], ['relu','relu','relu'])"
   ]
  },
  {
   "cell_type": "markdown",
   "metadata": {},
   "source": [
    "#### 3. Probar   la   red   neuronal   con   las   compuertas   AND,   OR   y   XOR   para   entradas   de   tamaño  2 y 4 (+ Bias). "
   ]
  },
  {
   "cell_type": "code",
   "execution_count": 7,
   "metadata": {},
   "outputs": [
    {
     "name": "stdout",
     "output_type": "stream",
     "text": [
      "epochs: 10000\n",
      "epochs: 10000\n",
      "epochs: 10000\n",
      "epochs: 10000\n",
      "epochs: 10000\n",
      "epochs: 10000\n",
      "epochs: 10000\n",
      "epochs: 10000\n",
      "epochs: 10000\n",
      "epochs: 10000\n",
      "epochs: 10000\n",
      "epochs: 10000\n"
     ]
    }
   ],
   "source": [
    "#Tamaño 2\n",
    "XOR_2 = np.array(TruthTableGenerator.generate_table(n_inputs=2, logic_gate='XOR'))\n",
    "AND_2 = np.array(TruthTableGenerator.generate_table(n_inputs=2, logic_gate='AND'))\n",
    "OR_2 = np.array(TruthTableGenerator.generate_table(n_inputs=2, logic_gate='OR'))\n",
    "#Tamaño 4\n",
    "XOR_4 = np.array(TruthTableGenerator.generate_table(n_inputs=4, logic_gate='XOR'))\n",
    "AND_4 = np.array(TruthTableGenerator.generate_table(n_inputs=4, logic_gate='AND'))\n",
    "OR_4 = np.array(TruthTableGenerator.generate_table(n_inputs=4, logic_gate='OR'))\n",
    "#__________________________________________________________________________________#\n",
    "\n",
    "#____________________________2 Entradas____________________________________________#\n",
    "#XOR\n",
    "perceptron_sigmoid_2.training(XOR_2[:,:-1],XOR_2[:,-1],epochs = 10000)\n",
    "perceptron_relu_2.training(XOR_2[:,:-1],XOR_2[:,-1],epochs = 10000)\n",
    "#AND\n",
    "perceptron_sigmoid_2.training(AND_2[:,:-1],AND_2[:,-1],epochs = 10000)\n",
    "perceptron_relu_2.training(AND_2[:,:-1],AND_2[:,-1],epochs = 10000)\n",
    "#OR\n",
    "perceptron_sigmoid_2.training(OR_2[:,:-1],OR_2[:,-1],epochs = 10000)\n",
    "perceptron_relu_2.training(OR_2[:,:-1],OR_2[:,-1],epochs = 10000)\n",
    "\n",
    "#____________________________4 Entradas____________________________________________#\n",
    "#XOR\n",
    "perceptron_sigmoid_4.training(XOR_4[:,:-1],XOR_4[:,-1],epochs = 10000)\n",
    "perceptron_relu_4.training(XOR_4[:,:-1],XOR_4[:,-1],epochs = 10000)\n",
    "#AND\n",
    "perceptron_sigmoid_4.training(AND_4[:,:-1],AND_4[:,-1],epochs = 10000)\n",
    "perceptron_relu_4.training(AND_4[:,:-1],AND_4[:,-1],epochs = 10000)\n",
    "#OR\n",
    "perceptron_sigmoid_4.training(OR_4[:,:-1],OR_4[:,-1],epochs = 10000)\n",
    "a = perceptron_relu_4.training(OR_4[:,:-1],OR_4[:,-1],epochs = 10000)\n"
   ]
  },
  {
   "cell_type": "markdown",
   "metadata": {},
   "source": [
    "#### 4. Mostrar   el   resultado   del   entrenamiento   mediante   un   gráfico   ​ Iteración   vs   Error   para  cada compuerta lógica."
   ]
  },
  {
   "cell_type": "code",
   "execution_count": null,
   "metadata": {},
   "outputs": [],
   "source": []
  },
  {
   "cell_type": "code",
   "execution_count": null,
   "metadata": {},
   "outputs": [],
   "source": []
  }
 ],
 "metadata": {
  "kernelspec": {
   "display_name": "Python 3",
   "language": "python",
   "name": "python3"
  },
  "language_info": {
   "codemirror_mode": {
    "name": "ipython",
    "version": 3
   },
   "file_extension": ".py",
   "mimetype": "text/x-python",
   "name": "python",
   "nbconvert_exporter": "python",
   "pygments_lexer": "ipython3",
   "version": "3.7.3"
  }
 },
 "nbformat": 4,
 "nbformat_minor": 2
}

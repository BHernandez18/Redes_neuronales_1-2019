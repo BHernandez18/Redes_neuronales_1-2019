{
 "cells": [
  {
   "cell_type": "markdown",
   "metadata": {},
   "source": [
    "viernes 03 de mayo de 2019  \n",
    "  \n",
    "_Benjamín Hernández Cortés_ - _Juan Pablo Rojas Rojas_  \n",
    "_Departamento de Ingeniería Informática (DIINF)_  \n",
    "_Universidad de Santiago de Chile (USACH)_\n",
    "\n",
    "\n",
    "## Laboratorio 2 - Fundamentos de Aprendizaje Profundo con Redes Neuronales\n",
    "___\n",
    "\n",
    "El presente código está orientado hacia la implementación de un perceptrón multicapa o red neuronal de múltiples capas (Multi-Layer Neural Network). En primera oportunidad, se utilizará el perceptrón para clasificar y emular compuertas lógicas AND, OR y XOR, tanto de 2 como de 4 entradas. Luego, se realizará una clasificación trabajando con el conjunto de datos [wine](https://archive.ics.uci.edu/ml/datasets/wine) provenientes de la [UCI Machine Learning Repository](https://archive.ics.uci.edu/ml/index.php) que contiene 13 atributos en total y que intentan describir clases de vinos provenientes de 3 cultivos distintos.\n",
    "\n",
    "\n",
    "#### Importación de bibliotecas\n",
    "---\n",
    "\n",
    "Las bibliotecas a emplear son:\n",
    "- **Numpy:** Herramienta de computación científica, que nos permitirá trabajar a través de vectores\n",
    "- **Pandas:** Para la manipulación y lectura de datos\n",
    "- **Matplotlib:** Para la visualización gráfica de diversos datos de interés\n",
    "- **Itertools:** Como herramienta para iteración de objetos\n",
    "- **Scikit-learn:** Para la obtención del dataset _wine_ y el uso de herramientas de evaluación de desempeño para los perceptrones multicapa."
   ]
  },
  {
   "cell_type": "code",
   "execution_count": 56,
   "metadata": {},
   "outputs": [],
   "source": [
    "import numpy as np\n",
    "import pandas as pd\n",
    "import matplotlib as mpl\n",
    "import sklearn as skl\n",
    "from sklearn.datasets import load_wine"
   ]
  },
  {
   "cell_type": "markdown",
   "metadata": {},
   "source": [
    "#### Definición de la clase TruthTableGenerator\n",
    "---\n",
    "\n",
    "La clase TruthTableGenerator permite generar tablas de verdad para 3 tipos de compuertas lógicas: AND, OR y XOR.\n",
    "\n",
    "En cuanto a las funciones definidas, se tiene:\n",
    "\n",
    "| **Función**  | **Descripción**  |\n",
    "| ------------ | ------------ |\n",
    "| `generate_table(n_inputs, logic_gate)`  |  Genera una tabla de verdad de n-variables (*n_inputs*), basada en una compuerta lógica determinada (*logic_gate*)|"
   ]
  },
  {
   "cell_type": "code",
   "execution_count": 57,
   "metadata": {},
   "outputs": [],
   "source": [
    "class TruthTableGenerator():\n",
    "    \n",
    "    def generate_table(n_inputs, logic_gate):\n",
    "        table = its.product([0,1], repeat = n_inputs)\n",
    "        table = pd.DataFrame(table)\n",
    "        results = []\n",
    "        \n",
    "        if logic_gate == 'AND':\n",
    "            for i in range(n_inputs ** 2):\n",
    "                row = table.loc[[i]].values[0]\n",
    "                results.append( all(row) )\n",
    "            \n",
    "        elif logic_gate == 'OR':\n",
    "            for i in range(n_inputs ** 2):\n",
    "                row = table.loc[[i]].values[0]\n",
    "                results.append( any(row) )\n",
    "                    \n",
    "        elif logic_gate == 'XOR':\n",
    "            for i in range(n_inputs ** 2):\n",
    "                row = table.loc[[i]].values[0]\n",
    "                tmp_result = row[0] ^ row[1]\n",
    "                for j in range(2, n_inputs):\n",
    "                    tmp_result = tmp_result ^ row[j]\n",
    "                results.append( tmp_result )\n",
    "        \n",
    "        else:\n",
    "            return None\n",
    "        \n",
    "        table['result'] = results\n",
    "        return table"
   ]
  },
  {
   "cell_type": "markdown",
   "metadata": {},
   "source": [
    "#### Definición de la clase Layer\n",
    "---\n",
    "La clase Layer permite representar una de las capas que conforma al Perceptrón Multicapa. Requiere de 3 parámetros:\n",
    "\n",
    "| <p style='text-align: left;'>**Parámetro**</p> | <p style='text-align: left;'>**Descripción**</p> |\n",
    "| ------------ | ------------ |\n",
    "| `number_of_inputs` |  <p style='text-align: justify;'>Valor númerico entero. Define la cantidad de entradas que recibe la capa, la cual debe ser mayor que 0. Por defecto, se define el número de entradas como 1.</p>|\n",
    "| `number_of_neurons` | <p style='text-align: justify;'>Valor numérico entero. Define la cantidad de neuronas que posee la capa, la cual debe ser mayor que 0. Por defecto, se define el número de neuronas como 1.</p> |\n",
    "| `activation_function` | <p style='text-align: justify;'>Cadena de caracteres. Define la función de activación que empleará la capa, la cual puede ser sigmoide (_sigmoid_) o ReLU (_relu_).</p> |\n",
    "\n",
    "En cuanto a las funciones definidas, se tiene:\n",
    "\n",
    "| <p style='text-align: left;'>**Función**</p>  | <p style='text-align: left;'>**Descripción**</p> |\n",
    "| ------------ | ------------ |\n",
    "| `calculate_output(input_vector)` |  <p style='text-align: justify;'>Realiza una predicción para un conjunto de datos (*input_vector*), empleando los valores actuales de los pesos (*weights*) asociados a la capa.</p>|\n"
   ]
  },
  {
   "cell_type": "code",
   "execution_count": 17,
   "metadata": {},
   "outputs": [],
   "source": [
    "class Layer:\n",
    "    def __init__(self,\n",
    "                 number_of_inputs = 1,\n",
    "                 number_of_neurons = 1,\n",
    "                 activation_function = 'sigmoid'):\n",
    "        self.number_of_neurons = number_of_neurons\n",
    "        self.number_of_inputs = number_of_inputs\n",
    "        self.activation_function = activation_function\n",
    "        self.weights = np.random.rand(self.number_of_inputs + 1, self.number_of_neurons)\n",
    "        self.input = None\n",
    "        self.output = None\n",
    "        \n",
    "    def calculate_output(input_vector):\n",
    "        self.input = input_vector\n",
    "        sum_ = np.matmul(np.append(input_vector, 1), self.weights)\n",
    "        if self.activation_function == 'sigmoid': self.output = sigmoid(sum_)\n",
    "        elif self.activation_function == 'relu': self.output = relu(sum_)\n",
    "        else: self.output = None\n",
    "        return self.output\n",
    "        \n",
    "            \n",
    "\n",
    "class MLP:\n",
    "    def __init__(data = None,\n",
    "                 number_of_inputs = 1,\n",
    "                 number_of_hidden_layers = 0,\n",
    "                 number_of_neurons_for_each_layer = None,\n",
    "                 activation_functions_for_each_layer = None):\n",
    "        \n",
    "        self.data_nrows, self.data_ncols = data.shape\n",
    "        self.number_of_hidden_layers = number_of_hidden_layers\n",
    "        self.number_of_neurons_for_each_layer = number_of_neurons_for_each_layer\n",
    "        self.activation_functions_for_each_layer = activation_functions_for_each_layer\n",
    "        self.layers = []\n",
    "        \n",
    "        # Primero se crea una capa escondida (hidden layer) según la cantidad de entradas\n",
    "        # definidas para el perceptrón. Si no se define un número de capas escondidas,\n",
    "        # entonces solamente se creará la capa de salida (output layer), recreando a un\n",
    "        # perceptrón simple.\n",
    "        \n",
    "        self.layers.append(\n",
    "            Layer(number_of_inputs = number_of_inputs,\n",
    "                  number_of_neurons = number_of_neurons_for_each_layer[0],\n",
    "                  activation_function = activation_functions_for_each_layer[0])\n",
    "        )\n",
    "        for i in range(1, self.number_of_hidden_layers + 1):\n",
    "            self.layers.append(\n",
    "                Layer(number_of_inputs = number_of_neurons_for_each_layer[i-1],\n",
    "                      number_of_neurons = number_of_neurons_for_each_layer[i],\n",
    "                      activation_function = activation_functions_for_each_layer[i])\n",
    "            )\n",
    "    \n",
    "    def training(self, number_of_iterations):\n",
    "        errors_series = []\n",
    "        for i in range(n_times):\n",
    "            errors = 0\n",
    "            for j in range(self.data_nrows):\n",
    "                row = self.data.loc[[j]].values[0]\n",
    "                predicted_value = self.predict( np.append(row[:-1], 1) )\n",
    "                error = row[-1] - predicted_value\n",
    "                errors += int(error != 0.0)\n",
    "                self.weights = self.weights + self.learning_rate * error * np.append(row[:-1], 1)\n",
    "            errors_series.append(errors)\n",
    "        return np.array(errors_series)\n",
    "    \n",
    "    def predict(self, input_vector, target_vector):\n",
    "        output_vector = None\n",
    "        for layer in self.layers:\n",
    "            output_vector = layer.calculate_output(input_vector)\n",
    "            input_vector = output_vector\n",
    "            print(output_vector)\n",
    "        return output_vector\n",
    "    \n",
    "    def adjust_weights(target_vector):\n",
    "        flag = True\n",
    "        errors = []\n",
    "        deltas_values = []\n",
    "        \n",
    "        # Calculo del error para la capa de salida\n",
    "        error = np.subtract(target_vector, self.layers[-1].output)\n",
    "        delta = np.array(error * sigmoid_derivative(self.layers[-1].output))\n",
    "        errors.append(error)\n",
    "        deltas_values.append(delta)\n",
    "        \n",
    "        for i in list(reversed(range(len(self.layers))))[1:]:\n",
    "            error = np.dot(deltas_values[-1], self.layers[i+1].weights)\n",
    "            delta = np.array(error * sigmoid_derivate(self.layers[i].output))\n",
    "            deltas_values.append(delta)\n",
    "        \n",
    "        deltas_values.reverse()\n",
    "        for i in range(len(self.layers)):\n",
    "            adjustment = np.dot(self.layers[i].input, deltas_values[i])\n",
    "            self.layers[i].weights = self.layers[i].weights += adjustment\n",
    "            \n",
    "        \n",
    "        \n",
    "        \n",
    "        \n",
    "                \n",
    "                \n",
    "                \n",
    "            \n",
    "        \n",
    "        \n",
    "        \n",
    "        \n",
    "        \n",
    "        \n",
    "\n",
    "def sigmoid(x):\n",
    "    return 1 / (1 + np.exp(-x))\n",
    "\n",
    "def sigmoid_derivative(x):\n",
    "    return sigmoid(x) * (1 -  sigmoid(x))\n",
    "\n",
    "def relu(x):\n",
    "    return np.maximum(0, x)\n",
    "                \n",
    "def sklearn_to_df(sklearn_dataset):\n",
    "    df = pd.DataFrame(sklearn_dataset.data, columns=sklearn_dataset.feature_names)\n",
    "    df['target'] = pd.Series(sklearn_dataset.target)\n",
    "    return df\n",
    "\n",
    "    \n",
    "\n",
    "a = sklearn_to_df(load_wine())\n",
    "\n",
    "b = TruthTableGenerator.generate_table(n_inputs=4, logic_gate='XOR')\n",
    "perceptron = MLP(number_of_inputs=4,\n",
    "                 number_of_hidden_layers=1,\n",
    "                 number_of_neurons_for_each_layer=[3,1],\n",
    "                 activation_functions_for_each_layer=['sigmoid', 'sigmoid'])"
   ]
  },
  {
   "cell_type": "code",
   "execution_count": 41,
   "metadata": {},
   "outputs": [
    {
     "name": "stdout",
     "output_type": "stream",
     "text": [
      "odnum aloh\n",
      "o\n",
      "hola mundo\n",
      "d\n",
      "hola mundo\n",
      "n\n",
      "hola mundo\n",
      "u\n",
      "hola mundo\n",
      "m\n",
      "hola mundo\n",
      " \n",
      "hola mundo\n",
      "a\n",
      "hola mundo\n",
      "l\n",
      "hola mundo\n",
      "o\n",
      "hola mundo\n",
      "h\n",
      "hola mundo\n"
     ]
    },
    {
     "data": {
      "text/plain": [
       "11"
      ]
     },
     "execution_count": 41,
     "metadata": {},
     "output_type": "execute_result"
    }
   ],
   "source": [
    "a = np.array([1,2,3])\n",
    "b = np.array([2,4,10])\n",
    "\n",
    "np.flip(np.subtract(a, b))\n",
    "\n",
    "c = \"hola mundo\"\n",
    "print(c[::-1])\n",
    "\n",
    "a * sigmoid_derivative(b)\n",
    "\n",
    "a = np.array([\n",
    "    [1,2],\n",
    "    [3,4],\n",
    "    [5,6]\n",
    "])\n",
    "\n",
    "for letter in reversed(c):\n",
    "    print(letter)\n",
    "    print(c)\n",
    "    \n",
    "np.dot(np.array([1, 2]), np.array([3, 4]).T)"
   ]
  },
  {
   "cell_type": "code",
   "execution_count": 44,
   "metadata": {},
   "outputs": [
    {
     "data": {
      "text/plain": [
       "array([0.39371039, 0.33970832, 0.11194925])"
      ]
     },
     "execution_count": 44,
     "metadata": {},
     "output_type": "execute_result"
    }
   ],
   "source": [
    "np.matmul([.1,.2,.3,.4], 2 * np.random.random((4, 3)) - 1)"
   ]
  },
  {
   "cell_type": "code",
   "execution_count": 49,
   "metadata": {},
   "outputs": [
    {
     "name": "stdout",
     "output_type": "stream",
     "text": [
      "[-0.01966119  0.11549294  0.05556729]\n"
     ]
    }
   ],
   "source": [
    "error = np.subtract(np.array([0,1,1]), np.array([.1,-.1,-.23]))\n",
    "delta = np.array(error * sigmoid_derivative(np.array([1,2,3])))\n",
    "print(delta)"
   ]
  },
  {
   "cell_type": "code",
   "execution_count": 55,
   "metadata": {},
   "outputs": [
    {
     "name": "stdout",
     "output_type": "stream",
     "text": [
      "3\n",
      "2\n",
      "1\n"
     ]
    },
    {
     "data": {
      "text/plain": [
       "[2, 1, 0]"
      ]
     },
     "execution_count": 55,
     "metadata": {},
     "output_type": "execute_result"
    }
   ],
   "source": [
    "a = [1,2,3,4]\n",
    "for layer in reversed(a[:-1]):\n",
    "    print(layer)\n",
    "    \n",
    "list(reversed(range(len(a))))[1:]"
   ]
  },
  {
   "cell_type": "code",
   "execution_count": null,
   "metadata": {},
   "outputs": [],
   "source": []
  }
 ],
 "metadata": {
  "kernelspec": {
   "display_name": "Python 3",
   "language": "python",
   "name": "python3"
  },
  "language_info": {
   "codemirror_mode": {
    "name": "ipython",
    "version": 3
   },
   "file_extension": ".py",
   "mimetype": "text/x-python",
   "name": "python",
   "nbconvert_exporter": "python",
   "pygments_lexer": "ipython3",
   "version": "3.7.3"
  }
 },
 "nbformat": 4,
 "nbformat_minor": 2
}

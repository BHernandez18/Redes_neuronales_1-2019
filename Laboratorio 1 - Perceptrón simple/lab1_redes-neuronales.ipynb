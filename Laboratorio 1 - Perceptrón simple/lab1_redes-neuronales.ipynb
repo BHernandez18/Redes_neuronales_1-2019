{
 "cells": [
  {
   "cell_type": "markdown",
   "metadata": {},
   "source": [
    "Benjamín Hernández Cortés - viernes 03 de mayo de 2019 \n",
    "\n",
    "\n",
    "## **Laboratorio 1** - Fundamentos de Aprendizaje Profundo con Redes Neuronales\n",
    "___\n",
    "\n",
    "<p style='text-align: justify;'>\n",
    "El presente código está orientado hacia la implementación de un perceptrón simple o red neuronal de una sola capa (Single-Layer Neural Network). En primera oportunidad, se utilizará el perceptrón para clasificar y emular compuertas lógicas AND, OR y XOR. Luego, se realizará una clasificación trabajando con un conjunto de datos que contiene 3 atributos: un alto, un ancho y una letra asociada.\n",
    "</p>\n",
    "\n",
    "#### Importación de bibliotecas\n",
    "---\n",
    "\n",
    "Las bibliotecas a emplear son:\n",
    "- **Numpy:** Herramienta de computación científica, que nos permitirá trabajar a través de vectores\n",
    "- **Pandas:** Para la manipulación y lectura de datos\n",
    "- **Matplotlib:** Para la visualización gráfica de diversos datos de interés\n",
    "- **Itertools:** Como herramienta para iteración de objetos"
   ]
  },
  {
   "cell_type": "code",
   "execution_count": 53,
   "metadata": {},
   "outputs": [],
   "source": [
    "import numpy as np\n",
    "import pandas as pd\n",
    "import matplotlib.pyplot as plt\n",
    "import itertools as its"
   ]
  },
  {
   "cell_type": "markdown",
   "metadata": {},
   "source": [
    "#### Definición de la clase Perceptron \n",
    "---\n",
    "\n",
    "La clase Perceptron permite generar un perceptrón simple inicial sobre el cual trabajar. Requiere de 3 parámetros:\n",
    "- **data:** Dataframe que contiene la información a ser clasificada y \"aprendida\"\n",
    "- **learning_rate:** Valor numérico. Corresponde a la tasa de aprendizaje, cuyo valor debe estar entre $]0, 1[$\n",
    "- **threshold:** Valor numérico. Representa el umbral de activación\n",
    "\n",
    "En cuanto a las funciones definidas, se tiene:\n",
    "\n",
    "| **Función**  | **Descripción**  |\n",
    "| ------------ | ------------ |\n",
    "| `predict(data)`  |  Realiza una predicción para un conjunto de datos (*data*), empleando los valores actuales de los pesos (*weights*) asociados al perceptron.|\n",
    "| `training(n_times)` |  Entrena al perceptrón con los datos entregados durante su inicialización, hasta una cantidad de veces (*n_times*) definida. Como resultado, se entrega un arreglo con la cantidad de errores cometidos durante cada iteración. |\n"
   ]
  },
  {
   "cell_type": "code",
   "execution_count": 54,
   "metadata": {},
   "outputs": [],
   "source": [
    "class Perceptron:\n",
    "    def __init__(self, data, learning_rate, threshold):\n",
    "        self.data = data\n",
    "        self.data_nrows, self.data_ncols = data.shape\n",
    "        self.learning_rate = learning_rate\n",
    "        self.threshold = threshold\n",
    "        self.weights = np.random.rand(self.data_ncols)\n",
    "        \n",
    "    def predict(self, data):\n",
    "        function_result = np.dot(data, self.weights)\n",
    "        return 1 if function_result >= self.threshold else 0\n",
    "    \n",
    "    def training(self, n_times):\n",
    "        errors_series = []\n",
    "        for i in range(n_times):\n",
    "            errors = 0\n",
    "            for j in range(self.data_nrows):\n",
    "                row = self.data.loc[[j]].values[0]\n",
    "                predicted_value = self.predict( np.append(row[:-1], 1) )\n",
    "                error = row[-1] - predicted_value\n",
    "                errors += int(error != 0.0)\n",
    "                self.weights = self.weights + self.learning_rate * error * np.append(row[:-1], 1)\n",
    "            errors_series.append(errors)\n",
    "        return np.array(errors_series)"
   ]
  },
  {
   "cell_type": "markdown",
   "metadata": {},
   "source": [
    "#### Definición de la clase TruthTableGenerator\n",
    "---\n",
    "\n",
    "La clase TruthTableGenerator permite generar tablas de verdad para 3 tipos de compuertas lógicas: AND, OR y XOR.\n",
    "\n",
    "En cuanto a las funciones definidas, se tiene:\n",
    "\n",
    "| **Función**  | **Descripción**  |\n",
    "| ------------ | ------------ |\n",
    "| `generate_table(n_inputs, logic_gate)`  |  Genera una tabla de verdad de n-variables (*n_inputs*), basada en una compuerta lógica determinada (*logic_gate*)|"
   ]
  },
  {
   "cell_type": "code",
   "execution_count": 55,
   "metadata": {},
   "outputs": [],
   "source": [
    "class TruthTableGenerator():\n",
    "    \n",
    "    def generate_table(n_inputs, logic_gate):\n",
    "        table = its.product([0,1], repeat = n_inputs)\n",
    "        table = pd.DataFrame(table)\n",
    "        results = []\n",
    "        \n",
    "        if logic_gate == 'AND':\n",
    "            for i in range(n_inputs ** 2):\n",
    "                row = table.loc[[i]].values[0]\n",
    "                results.append( all(row) )\n",
    "            \n",
    "        elif logic_gate == 'OR':\n",
    "            for i in range(n_inputs ** 2):\n",
    "                row = table.loc[[i]].values[0]\n",
    "                results.append( any(row) )\n",
    "                    \n",
    "        elif logic_gate == 'XOR':\n",
    "            for i in range(n_inputs ** 2):\n",
    "                row = table.loc[[i]].values[0]\n",
    "                tmp_result = row[0] ^ row[1]\n",
    "                for j in range(2, n_inputs):\n",
    "                    tmp_result = tmp_result ^ row[j]\n",
    "                results.append( tmp_result )\n",
    "        \n",
    "        else:\n",
    "            return None\n",
    "        \n",
    "        table['result'] = results\n",
    "        return table"
   ]
  },
  {
   "cell_type": "markdown",
   "metadata": {},
   "source": [
    "### **Actividad 1:** Perceptron Simple aplicado para compuertas lógicas AND, OR y XOR\n",
    "---\n",
    "\n",
    "#### Generación de tablas de verdad para cada caso."
   ]
  },
  {
   "cell_type": "code",
   "execution_count": 56,
   "metadata": {},
   "outputs": [],
   "source": [
    "table_AND = TruthTableGenerator.generate_table(n_inputs = 4, logic_gate = 'AND')\n",
    "table_OR  = TruthTableGenerator.generate_table(n_inputs = 4, logic_gate = 'OR')\n",
    "table_XOR = TruthTableGenerator.generate_table(n_inputs = 4, logic_gate = 'XOR')"
   ]
  },
  {
   "cell_type": "markdown",
   "metadata": {},
   "source": [
    "#### Generación y entrenamiento de perceptrones para cada compuerta lógica."
   ]
  },
  {
   "cell_type": "code",
   "execution_count": 57,
   "metadata": {},
   "outputs": [],
   "source": [
    "perceptron_AND = Perceptron(data = table_AND, learning_rate = 0.05, threshold = 0)\n",
    "perceptron_OR  = Perceptron(data = table_OR , learning_rate = 0.05, threshold = 0)\n",
    "perceptron_XOR = Perceptron(data = table_XOR, learning_rate = 0.05, threshold = 0)\n",
    "\n",
    "errors_AND = perceptron_AND.training(30)\n",
    "errors_OR  = perceptron_OR.training(30)\n",
    "errors_XOR = perceptron_XOR.training(30)"
   ]
  },
  {
   "cell_type": "markdown",
   "metadata": {},
   "source": [
    "#### Visualización y evolución del error."
   ]
  },
  {
   "cell_type": "code",
   "execution_count": 58,
   "metadata": {},
   "outputs": [
    {
     "data": {
      "image/png": "[encoded data removed]",
      "text/plain": [
       "<Figure size 432x288 with 1 Axes>"
      ]
     },
     "metadata": {
      "needs_background": "light"
     },
     "output_type": "display_data"
    }
   ],
   "source": [
    "plt.plot(errors_AND, label='AND')\n",
    "plt.plot(errors_OR, label='OR')\n",
    "plt.plot(errors_XOR, label='XOR')\n",
    "plt.legend()\n",
    "plt.show()"
   ]
  },
  {
   "cell_type": "markdown",
   "metadata": {},
   "source": [
    "### **Actividad 2:** Perceptron Simple aplicado al dataset 'letters.csv'\n",
    "---\n",
    "\n",
    "#### Pre-procesamiento de los datos"
   ]
  },
  {
   "cell_type": "code",
   "execution_count": 59,
   "metadata": {},
   "outputs": [],
   "source": [
    "data = pd.read_csv(filepath_or_buffer = 'letters.csv', sep = \",\", header = None)\n",
    "data.columns = ['largo', 'ancho', 'letra']\n",
    "data = data.replace(to_replace = ['o', 'l'], value = [0,1])"
   ]
  },
  {
   "cell_type": "markdown",
   "metadata": {},
   "source": [
    "#### Generación y entrenamiento del Perceptrón"
   ]
  },
  {
   "cell_type": "code",
   "execution_count": 60,
   "metadata": {},
   "outputs": [],
   "source": [
    "perceptron_numeros = Perceptron(data = data, learning_rate = 0.05, threshold = 0)\n",
    "errors_numeros = perceptron_numeros.training(100)"
   ]
  },
  {
   "cell_type": "markdown",
   "metadata": {},
   "source": [
    "#### Visualización y evolución del error"
   ]
  },
  {
   "cell_type": "code",
   "execution_count": 61,
   "metadata": {},
   "outputs": [
    {
     "data": {
      "image/png": "[encoded data removed]",
      "text/plain": [
       "<Figure size 432x288 with 1 Axes>"
      ]
     },
     "metadata": {
      "needs_background": "light"
     },
     "output_type": "display_data"
    }
   ],
   "source": [
    "plt.plot(errors_numeros, label='Clasificacion')\n",
    "plt.legend()\n",
    "plt.ylim(bottom = 0.0)\n",
    "plt.show()"
   ]
  },
  {
   "cell_type": "markdown",
   "metadata": {},
   "source": [
    "#### Visualización del dataset"
   ]
  },
  {
   "cell_type": "code",
   "execution_count": 62,
   "metadata": {},
   "outputs": [
    {
     "data": {
      "image/png": "[encoded data removed]",
      "text/plain": [
       "<Figure size 432x288 with 1 Axes>"
      ]
     },
     "metadata": {
      "needs_background": "light"
     },
     "output_type": "display_data"
    }
   ],
   "source": [
    "letras_l = data[data['letra'] == 1]\n",
    "letras_o = data[data['letra'] == 0]\n",
    "\n",
    "plt.scatter(x = letras_l.iloc[:,0], y = letras_l.iloc[:,1], color='red', marker='o', label='L')\n",
    "plt.scatter(x = letras_o.iloc[:,0], y = letras_o.iloc[:,1], color='blue', marker='x', label='O')\n",
    "plt.legend()\n",
    "plt.show()"
   ]
  },
  {
   "cell_type": "markdown",
   "metadata": {},
   "source": [
    "### Análisis y conclusiones\n",
    "\n",
    "<p style='text-align: justify;'>\n",
    "En cuánto al gráfico resultante de la primera actividad, es posible observar que los perceptrones con compuerta lógica AND y OR logran ser entrenados hasta no cometer errores, requiriendo de aproximadamente 10 iteraciones para alcanzar tal objetivo. Sin embargo, el perceptrón XOR no es capaz de eliminar el error por completo, debido a que sus resultados no son linealmente separables (a diferencia de los otros casos), por lo que en el mejor de los casos logró predecir correctamente las salidas, a excepción de 5 casos particulares.\n",
    "</p>\n",
    "\n",
    "<p style='text-align: justify;'>\n",
    "Por el lado del perceptrón implementado para el conjunto de datos 'letters.csv', se presenta un caso relativamente similar al del perceptrón XOR, dado que a pesar de ser entrenado 200 veces, el error no logra ser eliminado por completo. Tal como se aprecia en el gráfico, durante las primeras iteraciones el perceptrón comete muchos errores de predicción, algo esperable dado que no ha tenido contacto alguno con el conjunto de datos. Una vez que se acerca a la iteración 50, el perceptrón adquiere una estabilidad con 7 errores como mínimo, sin embargo, el error aumenta y disminuye constantemente en 1 unidad, una vez que el entrenamiento se aproxima a la iteración 75. Por lo tanto, el dataset 'letters.csv' no es linealmente separable, al igual que el perceptrón XOR de la actividad anterior.\n",
    "</p>\n",
    "\n",
    "<p style='text-align: justify;'>\n",
    "La asignación del umbral de cada perceptrón se realizó a partir de la función discriminante lineal ($g(u)$) empleada. La teoría dice que cuando $g(u) = x_1 * w_1 + x_2 * w_2 + ... x_n * w_n + w_{n+1}= 0$, corresponde al hiperplano que separa a las dos clases. Si se aplica esta ecuación para el perceptrón AND, se obtiene un umbral adecuado para separas las clases con valor de 1.5, mientras que para el perceptrón OR, un valor para el umbral de 0.5 resulta adecuado para separas las clases.\n",
    "</p>\n",
    "\n",
    "<p style='text-align: justify;'>\n",
    "En el caso del perceptrón XOR y el perceptrón del dataset 'letters.csv', esta ecuación no resulta conveniente dado que los datos no son linealmente separables, por lo que se asigno un umbral de forma totalmente aleatoria.\n",
    "</p>"
   ]
  }
 ],
 "metadata": {
  "kernelspec": {
   "display_name": "Python 3",
   "language": "python",
   "name": "python3"
  },
  "language_info": {
   "codemirror_mode": {
    "name": "ipython",
    "version": 3
   },
   "file_extension": ".py",
   "mimetype": "text/x-python",
   "name": "python",
   "nbconvert_exporter": "python",
   "pygments_lexer": "ipython3",
   "version": "3.7.3"
  }
 },
 "nbformat": 4,
 "nbformat_minor": 2
}

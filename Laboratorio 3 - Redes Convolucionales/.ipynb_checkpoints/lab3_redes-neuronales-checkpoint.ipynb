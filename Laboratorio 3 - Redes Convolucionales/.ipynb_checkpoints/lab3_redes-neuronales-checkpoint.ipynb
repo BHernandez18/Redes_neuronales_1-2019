{
 "cells": [
  {
   "cell_type": "markdown",
   "metadata": {},
   "source": [
    "domingo 16 de mayo de 2019  \n",
    "  \n",
    "_Benjamín Hernández Cortés_ - _Juan Pablo Rojas Rojas_  \n",
    "_Departamento de Ingeniería Informática (DIINF)_  \n",
    "_Universidad de Santiago de Chile (USACH)_\n",
    "\n",
    "\n",
    "## Laboratorio 3 - Fundamentos de Aprendizaje Profundo con Redes Neuronales\n",
    "___\n",
    "\n",
    "El presente código está orientado hacia la implementación de una red neuronal convolucional o CNN (Convolutional Neural Network), la cual será diseñada y empleada con el fin de clasificar un conjunto de 25.000 imagenes de perros y gatos, que pueden ser descargados a través del siguiente enlace: [Kaggle Cats and Dogs Dataset](https://www.microsoft.com/en-us/download/confirmation.aspx?id=54765).\n",
    "\n",
    "\n",
    "#### Importación de bibliotecas\n",
    "---\n",
    "\n",
    "Las bibliotecas a emplear son:\n",
    "- **os:** Manejo de funcionalidades dependientes del sistema operativo\n",
    "- **numpy:** Herramienta de computación científica, que permite trabajar a través de vectores\n",
    "- **matplotlib:** Visualización gráfica de diversos datos de interés\n",
    "- **tensorflow:** Diseño e implementación de la red neuronal convolucional\n",
    "- **cv2:** Manejo del conjunto de imagenes\n",
    "- **random:** Uso de funciones relacionadas con la aleatoriedad\n",
    "- **tqdm:** Barra de progreso interactiva\n",
    "\n",
    "### ¡PRECAUCIONES!\n",
    "---\n",
    "\n",
    "Para asegurar el correcto funcionamiento de la herramienta, es necesario tener en cuenta las siguientes precauciones y las acciones a tomar, para el reparar algunas funcionalidades que podrían presentar problemas.\n",
    "\n",
    "| <p style='text-align: left;'>**Error**</p>  | <p style='text-align: left;'>**Descripción**</p> |\n",
    "| ------------ | ------------ |\n",
    "| <p style='text-align: justify;'>`UnboundLocalError: local variable 'photoshop' referenced before assignment`</p> |  <p style='text-align: justify;'>Este mensaje de error se presenta al momento de utilizar la clase _ImageDataGenerator_ de _tensorflow.keras.preprocessing.image_. Este error puede ser reparado haciendo una leve modificación al archivo _JpegImagePlugin.py_ asociado a la biblioteca _PIL_, siguiendo los pasos indicados en este [post](https://github.com/python-pillow/Pillow/pull/3771#issuecomment-485104596).</p>|\n",
    "| <p style='text-align: justify;'>`Problema al obtener/cargar las imagenes`</p> |  <p style='text-align: justify;'>El conjunto de imagenes indicado al principio de este trabajo ([Kaggle Cats and Dogs Dataset](https://www.microsoft.com/en-us/download/confirmation.aspx?id=54765)), posee un par de imagenes que no contienen información y por lo tanto, no pueden ser empleadas. Las imagenes en cuestión son _/PetImages/Cat/666.jpg_ y _/PetImages/Dog/11702.jpg_. Se recomienda que elimine las imagenes anteriormente indicadas, previo a la ejecución de este archivo.</p>|"
   ]
  },
  {
   "cell_type": "code",
   "execution_count": 1,
   "metadata": {},
   "outputs": [],
   "source": [
    "import os\n",
    "import numpy as np\n",
    "import matplotlib.pyplot as plt\n",
    "import tensorflow as tf\n",
    "import cv2\n",
    "import warnings\n",
    "\n",
    "from random import shuffle\n",
    "from tqdm import tqdm\n",
    "from tensorflow.keras.preprocessing.image import ImageDataGenerator\n",
    "from tensorflow.keras.models import Sequential\n",
    "from tensorflow.keras.layers import Conv2D, MaxPooling2D, Flatten, Dense, Dropout, Activation, BatchNormalization\n",
    "\n",
    "warnings.filterwarnings('ignore')"
   ]
  },
  {
   "cell_type": "code",
   "execution_count": 2,
   "metadata": {},
   "outputs": [
    {
     "name": "stdout",
     "output_type": "stream",
     "text": [
      "Found 17500 images belonging to 2 classes.\n",
      "Found 7498 images belonging to 2 classes.\n",
      "WARNING:tensorflow:From /home/benjamin/anaconda3/lib/python3.7/site-packages/tensorflow/python/ops/resource_variable_ops.py:435: colocate_with (from tensorflow.python.framework.ops) is deprecated and will be removed in a future version.\n",
      "Instructions for updating:\n",
      "Colocations handled automatically by placer.\n",
      "_________________________________________________________________\n",
      "Layer (type)                 Output Shape              Param #   \n",
      "=================================================================\n",
      "conv2d (Conv2D)              (None, 56, 56, 32)        832       \n",
      "_________________________________________________________________\n",
      "max_pooling2d (MaxPooling2D) (None, 18, 18, 32)        0         \n",
      "_________________________________________________________________\n",
      "conv2d_1 (Conv2D)            (None, 14, 14, 64)        51264     \n",
      "_________________________________________________________________\n",
      "max_pooling2d_1 (MaxPooling2 (None, 4, 4, 64)          0         \n",
      "_________________________________________________________________\n",
      "flatten (Flatten)            (None, 1024)              0         \n",
      "_________________________________________________________________\n",
      "dense (Dense)                (None, 256)               262400    \n",
      "_________________________________________________________________\n",
      "dense_1 (Dense)              (None, 2)                 514       \n",
      "=================================================================\n",
      "Total params: 315,010\n",
      "Trainable params: 315,010\n",
      "Non-trainable params: 0\n",
      "_________________________________________________________________\n",
      "WARNING:tensorflow:From /home/benjamin/anaconda3/lib/python3.7/site-packages/tensorflow/python/ops/math_ops.py:3066: to_int32 (from tensorflow.python.ops.math_ops) is deprecated and will be removed in a future version.\n",
      "Instructions for updating:\n",
      "Use tf.cast instead.\n",
      "Epoch 1/5\n",
      "75/75 [==============================] - 27s 355ms/step - loss: 0.6155 - acc: 0.6615\n",
      "175/175 [==============================] - 102s 583ms/step - loss: 0.6632 - acc: 0.5980 - val_loss: 0.6155 - val_acc: 0.6615\n",
      "Epoch 2/5\n",
      "75/75 [==============================] - 26s 351ms/step - loss: 0.5613 - acc: 0.7154\n",
      "175/175 [==============================] - 98s 560ms/step - loss: 0.5937 - acc: 0.6829 - val_loss: 0.5613 - val_acc: 0.7154\n",
      "Epoch 3/5\n",
      "75/75 [==============================] - 26s 349ms/step - loss: 0.5143 - acc: 0.7447\n",
      "175/175 [==============================] - 97s 555ms/step - loss: 0.5388 - acc: 0.7291 - val_loss: 0.5143 - val_acc: 0.7447\n",
      "Epoch 4/5\n",
      "75/75 [==============================] - 26s 341ms/step - loss: 0.5241 - acc: 0.7382\n",
      "175/175 [==============================] - 97s 557ms/step - loss: 0.4868 - acc: 0.7638 - val_loss: 0.5241 - val_acc: 0.7382\n",
      "Epoch 5/5\n",
      "75/75 [==============================] - 27s 353ms/step - loss: 0.4753 - acc: 0.7698\n",
      "175/175 [==============================] - 98s 562ms/step - loss: 0.4580 - acc: 0.7814 - val_loss: 0.4753 - val_acc: 0.7698\n"
     ]
    }
   ],
   "source": [
    "IMAGE_SIZE = 60\n",
    "IMAGE_WIDTH, IMAGE_HEIGHT = IMAGE_SIZE, IMAGE_SIZE\n",
    "input_shape = (IMAGE_WIDTH, IMAGE_HEIGHT, 1)\n",
    "\n",
    "datagen = ImageDataGenerator(rescale=1.0/255.0,\n",
    "                             validation_split=0.3)\n",
    "\n",
    "# Conjunto de prueba\n",
    "training_dataset = datagen.flow_from_directory('PetImages/',\n",
    "                                               target_size=(IMAGE_SIZE, IMAGE_SIZE),\n",
    "                                               batch_size=100,\n",
    "                                               color_mode='grayscale',\n",
    "                                               class_mode='categorical',\n",
    "                                               shuffle=True,\n",
    "                                               subset='training')\n",
    "\n",
    "# Conjunto de validación\n",
    "validation_dataset = datagen.flow_from_directory('PetImages/',\n",
    "                                                 target_size=(IMAGE_SIZE, IMAGE_SIZE),\n",
    "                                                 batch_size=100,\n",
    "                                                 color_mode='grayscale',\n",
    "                                                 class_mode='categorical',\n",
    "                                                 shuffle=True,\n",
    "                                                 subset='validation')\n",
    "\n",
    "\n",
    "\n",
    "model = Sequential()\n",
    "\n",
    "model.add(Conv2D(32, (5, 5), activation='relu', input_shape=(60,60,1)))\n",
    "\n",
    "model.add(MaxPooling2D(pool_size=(3, 3)))\n",
    "\n",
    "#model.add(Activation('relu'))\n",
    "\n",
    "model.add(Conv2D(64, (5, 5), activation='relu', input_shape=(60,60,1)))\n",
    "\n",
    "model.add(MaxPooling2D(pool_size=(3, 3)))\n",
    "\n",
    "#model.add(Activation('relu'))\n",
    "\n",
    "model.add(Flatten())\n",
    "\n",
    "model.add(Dense(256, activation='relu'))\n",
    "\n",
    "model.add(Dense(2, activation='softmax'))\n",
    "\n",
    "model.compile(loss=\"categorical_crossentropy\",\n",
    "              optimizer=\"adam\",\n",
    "              metrics=[\"accuracy\"])\n",
    "\n",
    "# Detalle del modelo\n",
    "model.summary()\n",
    "\n",
    "# Entrenamiento del modelo\n",
    "history = model.fit_generator(training_dataset,\n",
    "                              steps_per_epoch=len(training_dataset),\n",
    "                              epochs = 5,\n",
    "                              validation_steps = len(validation_dataset),\n",
    "                              validation_data = validation_dataset);\n",
    "\n",
    "# Guardado del modelo\n",
    "model.save(\"model_lab3.h5\")"
   ]
  },
  {
   "cell_type": "markdown",
   "metadata": {},
   "source": [
    "### Visualización de los resultados\n",
    "___"
   ]
  },
  {
   "cell_type": "code",
   "execution_count": 9,
   "metadata": {},
   "outputs": [
    {
     "data": {
      "image/png": "[encoded data removed]",
      "text/plain": [
       "<Figure size 432x288 with 1 Axes>"
      ]
     },
     "metadata": {
      "needs_background": "light"
     },
     "output_type": "display_data"
    },
    {
     "data": {
      "image/png": "[encoded data removed]",
      "text/plain": [
       "<Figure size 432x288 with 1 Axes>"
      ]
     },
     "metadata": {
      "needs_background": "light"
     },
     "output_type": "display_data"
    }
   ],
   "source": [
    "# Figura 1 - Valores de precisión para los conjuntos de entrenamiento y validación.\n",
    "plt.plot(history.history['acc'])\n",
    "plt.plot(history.history['val_acc'])\n",
    "plt.title('Precisión del modelo')\n",
    "plt.ylabel('Accuracy')\n",
    "plt.xlabel('Época')\n",
    "plt.legend(['Train', 'Test'], loc='upper left')\n",
    "plt.show()\n",
    "\n",
    "# Figura 2 - Valores de pérdida para los conjuntos de entrenamiento y validación.\n",
    "plt.plot(history.history['loss'])\n",
    "plt.plot(history.history['val_loss'])\n",
    "plt.title('Pérdida del modelo')\n",
    "plt.ylabel('Pérdida')\n",
    "plt.xlabel('Época')\n",
    "plt.legend(['Train', 'Test'], loc='upper left')\n",
    "plt.show()"
   ]
  },
  {
   "cell_type": "markdown",
   "metadata": {},
   "source": [
    "### Prueba del modelo"
   ]
  },
  {
   "cell_type": "code",
   "execution_count": 11,
   "metadata": {},
   "outputs": [
    {
     "name": "stdout",
     "output_type": "stream",
     "text": [
      "Found 17 images belonging to 2 classes.\n"
     ]
    }
   ],
   "source": [
    "test_dataset = datagen.flow_from_directory('Datos de prueba/',\n",
    "                                           target_size=(IMAGE_SIZE, IMAGE_SIZE),\n",
    "                                           batch_size=100,\n",
    "                                           color_mode='grayscale',\n",
    "                                           class_mode='categorical',\n",
    "                                           shuffle=True)"
   ]
  },
  {
   "cell_type": "code",
   "execution_count": null,
   "metadata": {},
   "outputs": [],
   "source": []
  }
 ],
 "metadata": {
  "kernelspec": {
   "display_name": "Python 3",
   "language": "python",
   "name": "python3"
  },
  "language_info": {
   "codemirror_mode": {
    "name": "ipython",
    "version": 3
   },
   "file_extension": ".py",
   "mimetype": "text/x-python",
   "name": "python",
   "nbconvert_exporter": "python",
   "pygments_lexer": "ipython3",
   "version": "3.7.3"
  }
 },
 "nbformat": 4,
 "nbformat_minor": 2
}

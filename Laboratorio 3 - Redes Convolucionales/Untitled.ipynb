{
 "cells": [
  {
   "cell_type": "code",
   "execution_count": 4,
   "metadata": {},
   "outputs": [
    {
     "name": "stdout",
     "output_type": "stream",
     "text": [
      "TensorFlow Version - 1.13.1\n",
      "Keras Version - 2.2.4-tf\n"
     ]
    }
   ],
   "source": [
    "import os\n",
    "import numpy as np\n",
    "import matplotlib.pyplot as plt\n",
    "import tensorflow as tf\n",
    "import cv2\n",
    " \n",
    "from tqdm import tqdm\n",
    "from random import shuffle\n",
    "from tensorflow.keras.layers import Conv2D, MaxPooling2D, Dense, Flatten, Dropout\n",
    "from tensorflow.keras.models import Sequential, load_model\n",
    "from tensorflow.keras.optimizers import Adam\n",
    "from tensorflow.keras.callbacks import TensorBoard, ReduceLROnPlateau, EarlyStopping, ModelCheckpoint\n",
    "from tensorflow.keras.preprocessing.image import ImageDataGenerator\n",
    "\n",
    "FOLDER_PATH = \"/home/benjamin/Escritorio/Redes_neuronales_1-2019/Laboratorio 3 - Redes Convolucionales/PetImages/\"\n",
    "IMG_SIZE = 50\n",
    "print(f'TensorFlow Version - {tf.__version__}')\n",
    "print(f'Keras Version - {tf.keras.__version__}')\n",
    "\n",
    "\n",
    "def get_label(img):\n",
    "    \"\"\"Returns the label for an image.\n",
    "    \n",
    "    Keyword Arguments:\n",
    "    img - The filename of the image whose label we want to get.\n",
    "    \n",
    "    Returns:\n",
    "    list object - The respective label for dog or cat. (dog = 1, cat = 0)\n",
    "    \"\"\"\n",
    "    word = img.split('.')[0]\n",
    "    if word == 'cat':\n",
    "        return [0]\n",
    "    else:\n",
    "        return [1]\n",
    "\n",
    "def load_images():\n",
    "    \"\"\"Returns the training data from TRAIN_DIR.\n",
    "    Images are read in grayscale format and resized to IMG_SIZE dimension square.\n",
    "    The whole data is saved with numpy in .npy format for quick loading for future purpose.\n",
    "    \"\"\"\n",
    "    pets = []\n",
    "    for img in tqdm(os.listdir(FOLDER_PATH + \"/Cat\")):\n",
    "        label = get_label(img)\n",
    "        path = os.path.join(TRAIN_DIR,img)\n",
    "        img = cv2.resize(cv2.imread(path,cv2.IMREAD_GRAYSCALE), (IMG_SIZE,IMG_SIZE))\n",
    "        img = img/255\n",
    "        pets.append([np.array(img),np.array(label)])\n",
    "    shuffle(cats)\n",
    "    shuffle(dogs)\n",
    "    np.save('images_{}x{}.npy'.format(IMG_SIZE, IMG_SIZE),training_data)\n",
    "    return np.array(training_data)\n",
    "\n"
   ]
  },
  {
   "cell_type": "code",
   "execution_count": 10,
   "metadata": {},
   "outputs": [],
   "source": [
    "a = np.array([1])"
   ]
  },
  {
   "cell_type": "code",
   "execution_count": 11,
   "metadata": {},
   "outputs": [],
   "source": [
    "if not a:\n",
    "    print(\"x\")"
   ]
  },
  {
   "cell_type": "code",
   "execution_count": null,
   "metadata": {},
   "outputs": [],
   "source": []
  }
 ],
 "metadata": {
  "kernelspec": {
   "display_name": "Python 3",
   "language": "python",
   "name": "python3"
  },
  "language_info": {
   "codemirror_mode": {
    "name": "ipython",
    "version": 3
   },
   "file_extension": ".py",
   "mimetype": "text/x-python",
   "name": "python",
   "nbconvert_exporter": "python",
   "pygments_lexer": "ipython3",
   "version": "3.7.3"
  }
 },
 "nbformat": 4,
 "nbformat_minor": 2
}

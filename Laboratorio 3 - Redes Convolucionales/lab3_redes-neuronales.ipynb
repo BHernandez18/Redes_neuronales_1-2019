{
 "cells": [
  {
   "cell_type": "markdown",
   "metadata": {},
   "source": [
    "domingo 16 de mayo de 2019  \n",
    "  \n",
    "_Benjamín Hernández Cortés_ - _Juan Pablo Rojas Rojas_  \n",
    "_Departamento de Ingeniería Informática (DIINF)_  \n",
    "_Universidad de Santiago de Chile (USACH)_\n",
    "\n",
    "\n",
    "## Laboratorio 3 - Fundamentos de Aprendizaje Profundo con Redes Neuronales\n",
    "___\n",
    "\n",
    "El presente código está orientado hacia la implementación de una red neuronal convolucional o CNN (Convolutional Neural Network), la cual será diseñada y empleada con el fin de clasificar un conjunto de 25.000 imagenes de perros y gatos, que pueden ser descargados a través del siguiente enlace: [Kaggle Cats and Dogs Dataset](https://www.microsoft.com/en-us/download/confirmation.aspx?id=54765).\n",
    "\n",
    "\n",
    "#### Importación de bibliotecas\n",
    "---\n",
    "\n",
    "Las bibliotecas a emplear son:\n",
    "- **os:** Manejo de funcionalidades dependientes del sistema operativo\n",
    "- **numpy:** Herramienta de computación científica, que permite trabajar a través de vectores\n",
    "- **matplotlib:** Visualización gráfica de diversos datos de interés\n",
    "- **tensorflow:** Diseño e implementación de la red neuronal convolucional\n",
    "- **cv2:** Manejo del conjunto de imagenes\n",
    "- **random:** Uso de funciones relacionadas con la aleatoriedad\n",
    "- **tqdm:** Barra de progreso interactiva\n",
    "\n",
    "#### ¡Precauciones!\n",
    "---\n",
    "\n",
    "Para asegurar el correcto funcionamiento de la herramienta, es necesario tener en cuenta las siguientes precauciones y las acciones a tomar, para el reparar algunas funcionalidades que podrían presentar problemas.\n",
    "\n",
    "| <p style='text-align: left;'>**Error**</p>  | <p style='text-align: left;'>**Descripción**</p> |\n",
    "| ------------ | ------------ |\n",
    "| <p style='text-align: justify;'>`UnboundLocalError: local variable 'photoshop' referenced before assignment`</p> |  <p style='text-align: justify;'>Este mensaje de error se presenta al momento de utilizar la clase _ImageDataGenerator_ de _tensorflow.keras.preprocessing.image_. Este error puede ser reparado haciendo una leve modificación al archivo _JpegImagePlugin.py_ asociado a la biblioteca _PIL_, siguiendo los pasos indicados en este [post](https://github.com/python-pillow/Pillow/pull/3771#issuecomment-485104596).</p>|\n",
    "| <p style='text-align: justify;'>`Problema al obtener/cargar las imagenes`</p> |  <p style='text-align: justify;'>El conjunto de imagenes indicado al principio de este trabajo ([Kaggle Cats and Dogs Dataset](https://www.microsoft.com/en-us/download/confirmation.aspx?id=54765)), posee un par de imagenes que no contienen información y por lo tanto, no pueden ser empleados. Las imagenes en cuestión son _/PetImages/Cat/666.jpg_ y _/PetImages/Dog/11702.jpg_. Se recomienda que elimine las imagenes anteriormente indicadas, previo a la ejecución de este archivo.</p>|"
   ]
  },
  {
   "cell_type": "code",
   "execution_count": 32,
   "metadata": {},
   "outputs": [],
   "source": [
    "import os\n",
    "import numpy as np\n",
    "import matplotlib.pyplot as plt\n",
    "import tensorflow as tf\n",
    "import cv2\n",
    "\n",
    "from random import shuffle\n",
    "from tqdm import tqdm\n",
    "from tensorflow.keras.preprocessing.image import ImageDataGenerator\n",
    "from tensorflow.keras.models import Sequential\n",
    "from tensorflow.keras.layers import Conv2D, MaxPooling2D, Flatten, Dense, Dropout, Activation, BatchNormalization"
   ]
  },
  {
   "cell_type": "code",
   "execution_count": 22,
   "metadata": {},
   "outputs": [
    {
     "name": "stdout",
     "output_type": "stream",
     "text": [
      "Found 17500 images belonging to 2 classes.\n",
      "Found 7498 images belonging to 2 classes.\n",
      "_________________________________________________________________\n",
      "Layer (type)                 Output Shape              Param #   \n",
      "=================================================================\n",
      "conv2d_43 (Conv2D)           (None, 250, 250, 32)      4736      \n",
      "_________________________________________________________________\n",
      "batch_normalization_v1_8 (Ba (None, 250, 250, 32)      128       \n",
      "_________________________________________________________________\n",
      "max_pooling2d_32 (MaxPooling (None, 125, 125, 32)      0         \n",
      "_________________________________________________________________\n",
      "conv2d_44 (Conv2D)           (None, 123, 123, 64)      18496     \n",
      "_________________________________________________________________\n",
      "batch_normalization_v1_9 (Ba (None, 123, 123, 64)      256       \n",
      "_________________________________________________________________\n",
      "max_pooling2d_33 (MaxPooling (None, 61, 61, 64)        0         \n",
      "_________________________________________________________________\n",
      "conv2d_45 (Conv2D)           (None, 59, 59, 128)       73856     \n",
      "_________________________________________________________________\n",
      "batch_normalization_v1_10 (B (None, 59, 59, 128)       512       \n",
      "_________________________________________________________________\n",
      "max_pooling2d_34 (MaxPooling (None, 29, 29, 128)       0         \n",
      "_________________________________________________________________\n",
      "flatten_7 (Flatten)          (None, 107648)            0         \n",
      "_________________________________________________________________\n",
      "dense_17 (Dense)             (None, 1024)              110232576 \n",
      "_________________________________________________________________\n",
      "batch_normalization_v1_11 (B (None, 1024)              4096      \n",
      "_________________________________________________________________\n",
      "dropout_17 (Dropout)         (None, 1024)              0         \n",
      "_________________________________________________________________\n",
      "dense_18 (Dense)             (None, 1)                 1025      \n",
      "=================================================================\n",
      "Total params: 110,335,681\n",
      "Trainable params: 110,333,185\n",
      "Non-trainable params: 2,496\n",
      "_________________________________________________________________\n",
      "Epoch 1/10\n",
      "  9/175 [>.............................] - ETA: 2:11:55 - loss: 6.8552 - acc: 0.57 - ETA: 1:29:11 - loss: 7.3335 - acc: 0.54 - ETA: 1:13:12 - loss: 7.6523 - acc: 0.52 - ETA: 1:05:18 - loss: 7.7321 - acc: 0.51 - ETA: 1:00:20 - loss: 7.7161 - acc: 0.51 - ETA: 56:47 - loss: 7.8118 - acc: 0.5100 - ETA: 54:13 - loss: 7.7662 - acc: 0.51 - ETA: 52:14 - loss: 7.7321 - acc: 0.51 - ETA: 50:40 - loss: 7.7055 - acc: 0.5167"
     ]
    },
    {
     "ename": "KeyboardInterrupt",
     "evalue": "",
     "output_type": "error",
     "traceback": [
      "\u001b[1;31m---------------------------------------------------------------------------\u001b[0m",
      "\u001b[1;31mKeyboardInterrupt\u001b[0m                         Traceback (most recent call last)",
      "\u001b[1;32m<ipython-input-22-a3c531bee39a>\u001b[0m in \u001b[0;36m<module>\u001b[1;34m\u001b[0m\n\u001b[0;32m     57\u001b[0m                     \u001b[0mepochs\u001b[0m \u001b[1;33m=\u001b[0m \u001b[1;36m10\u001b[0m\u001b[1;33m,\u001b[0m\u001b[1;33m\u001b[0m\u001b[1;33m\u001b[0m\u001b[0m\n\u001b[0;32m     58\u001b[0m                     \u001b[0mvalidation_steps\u001b[0m \u001b[1;33m=\u001b[0m \u001b[0mlen\u001b[0m\u001b[1;33m(\u001b[0m\u001b[0mvalidation_dataset\u001b[0m\u001b[1;33m)\u001b[0m\u001b[1;33m,\u001b[0m\u001b[1;33m\u001b[0m\u001b[1;33m\u001b[0m\u001b[0m\n\u001b[1;32m---> 59\u001b[1;33m                     validation_data = validation_dataset);\n\u001b[0m",
      "\u001b[1;32mC:\\Anaconda3\\envs\\lab3_neuronales\\lib\\site-packages\\tensorflow\\python\\keras\\engine\\training.py\u001b[0m in \u001b[0;36mfit_generator\u001b[1;34m(self, generator, steps_per_epoch, epochs, verbose, callbacks, validation_data, validation_steps, class_weight, max_queue_size, workers, use_multiprocessing, shuffle, initial_epoch)\u001b[0m\n\u001b[0;32m   1424\u001b[0m         \u001b[0muse_multiprocessing\u001b[0m\u001b[1;33m=\u001b[0m\u001b[0muse_multiprocessing\u001b[0m\u001b[1;33m,\u001b[0m\u001b[1;33m\u001b[0m\u001b[1;33m\u001b[0m\u001b[0m\n\u001b[0;32m   1425\u001b[0m         \u001b[0mshuffle\u001b[0m\u001b[1;33m=\u001b[0m\u001b[0mshuffle\u001b[0m\u001b[1;33m,\u001b[0m\u001b[1;33m\u001b[0m\u001b[1;33m\u001b[0m\u001b[0m\n\u001b[1;32m-> 1426\u001b[1;33m         initial_epoch=initial_epoch)\n\u001b[0m\u001b[0;32m   1427\u001b[0m \u001b[1;33m\u001b[0m\u001b[0m\n\u001b[0;32m   1428\u001b[0m   def evaluate_generator(self,\n",
      "\u001b[1;32mC:\\Anaconda3\\envs\\lab3_neuronales\\lib\\site-packages\\tensorflow\\python\\keras\\engine\\training_generator.py\u001b[0m in \u001b[0;36mmodel_iteration\u001b[1;34m(model, data, steps_per_epoch, epochs, verbose, callbacks, validation_data, validation_steps, class_weight, max_queue_size, workers, use_multiprocessing, shuffle, initial_epoch, mode, batch_size, **kwargs)\u001b[0m\n\u001b[0;32m    189\u001b[0m       \u001b[0mprogbar\u001b[0m\u001b[1;33m.\u001b[0m\u001b[0mon_batch_begin\u001b[0m\u001b[1;33m(\u001b[0m\u001b[0mstep\u001b[0m\u001b[1;33m,\u001b[0m \u001b[0mbatch_logs\u001b[0m\u001b[1;33m)\u001b[0m\u001b[1;33m\u001b[0m\u001b[1;33m\u001b[0m\u001b[0m\n\u001b[0;32m    190\u001b[0m \u001b[1;33m\u001b[0m\u001b[0m\n\u001b[1;32m--> 191\u001b[1;33m       \u001b[0mbatch_outs\u001b[0m \u001b[1;33m=\u001b[0m \u001b[0mbatch_function\u001b[0m\u001b[1;33m(\u001b[0m\u001b[1;33m*\u001b[0m\u001b[0mbatch_data\u001b[0m\u001b[1;33m)\u001b[0m\u001b[1;33m\u001b[0m\u001b[1;33m\u001b[0m\u001b[0m\n\u001b[0m\u001b[0;32m    192\u001b[0m       \u001b[1;32mif\u001b[0m \u001b[1;32mnot\u001b[0m \u001b[0misinstance\u001b[0m\u001b[1;33m(\u001b[0m\u001b[0mbatch_outs\u001b[0m\u001b[1;33m,\u001b[0m \u001b[0mlist\u001b[0m\u001b[1;33m)\u001b[0m\u001b[1;33m:\u001b[0m\u001b[1;33m\u001b[0m\u001b[1;33m\u001b[0m\u001b[0m\n\u001b[0;32m    193\u001b[0m         \u001b[0mbatch_outs\u001b[0m \u001b[1;33m=\u001b[0m \u001b[1;33m[\u001b[0m\u001b[0mbatch_outs\u001b[0m\u001b[1;33m]\u001b[0m\u001b[1;33m\u001b[0m\u001b[1;33m\u001b[0m\u001b[0m\n",
      "\u001b[1;32mC:\\Anaconda3\\envs\\lab3_neuronales\\lib\\site-packages\\tensorflow\\python\\keras\\engine\\training.py\u001b[0m in \u001b[0;36mtrain_on_batch\u001b[1;34m(self, x, y, sample_weight, class_weight, reset_metrics)\u001b[0m\n\u001b[0;32m   1189\u001b[0m       \u001b[1;32melse\u001b[0m\u001b[1;33m:\u001b[0m\u001b[1;33m\u001b[0m\u001b[1;33m\u001b[0m\u001b[0m\n\u001b[0;32m   1190\u001b[0m         \u001b[0mself\u001b[0m\u001b[1;33m.\u001b[0m\u001b[0m_make_fit_function\u001b[0m\u001b[1;33m(\u001b[0m\u001b[1;33m)\u001b[0m\u001b[1;33m\u001b[0m\u001b[1;33m\u001b[0m\u001b[0m\n\u001b[1;32m-> 1191\u001b[1;33m         \u001b[0moutputs\u001b[0m \u001b[1;33m=\u001b[0m \u001b[0mself\u001b[0m\u001b[1;33m.\u001b[0m\u001b[0m_fit_function\u001b[0m\u001b[1;33m(\u001b[0m\u001b[0mins\u001b[0m\u001b[1;33m)\u001b[0m  \u001b[1;31m# pylint: disable=not-callable\u001b[0m\u001b[1;33m\u001b[0m\u001b[1;33m\u001b[0m\u001b[0m\n\u001b[0m\u001b[0;32m   1192\u001b[0m \u001b[1;33m\u001b[0m\u001b[0m\n\u001b[0;32m   1193\u001b[0m     \u001b[1;32mif\u001b[0m \u001b[0mreset_metrics\u001b[0m\u001b[1;33m:\u001b[0m\u001b[1;33m\u001b[0m\u001b[1;33m\u001b[0m\u001b[0m\n",
      "\u001b[1;32mC:\\Anaconda3\\envs\\lab3_neuronales\\lib\\site-packages\\tensorflow\\python\\keras\\backend.py\u001b[0m in \u001b[0;36m__call__\u001b[1;34m(self, inputs)\u001b[0m\n\u001b[0;32m   3074\u001b[0m \u001b[1;33m\u001b[0m\u001b[0m\n\u001b[0;32m   3075\u001b[0m     fetched = self._callable_fn(*array_vals,\n\u001b[1;32m-> 3076\u001b[1;33m                                 run_metadata=self.run_metadata)\n\u001b[0m\u001b[0;32m   3077\u001b[0m     \u001b[0mself\u001b[0m\u001b[1;33m.\u001b[0m\u001b[0m_call_fetch_callbacks\u001b[0m\u001b[1;33m(\u001b[0m\u001b[0mfetched\u001b[0m\u001b[1;33m[\u001b[0m\u001b[1;33m-\u001b[0m\u001b[0mlen\u001b[0m\u001b[1;33m(\u001b[0m\u001b[0mself\u001b[0m\u001b[1;33m.\u001b[0m\u001b[0m_fetches\u001b[0m\u001b[1;33m)\u001b[0m\u001b[1;33m:\u001b[0m\u001b[1;33m]\u001b[0m\u001b[1;33m)\u001b[0m\u001b[1;33m\u001b[0m\u001b[1;33m\u001b[0m\u001b[0m\n\u001b[0;32m   3078\u001b[0m     return nest.pack_sequence_as(self._outputs_structure,\n",
      "\u001b[1;32mC:\\Anaconda3\\envs\\lab3_neuronales\\lib\\site-packages\\tensorflow\\python\\client\\session.py\u001b[0m in \u001b[0;36m__call__\u001b[1;34m(self, *args, **kwargs)\u001b[0m\n\u001b[0;32m   1437\u001b[0m           ret = tf_session.TF_SessionRunCallable(\n\u001b[0;32m   1438\u001b[0m               \u001b[0mself\u001b[0m\u001b[1;33m.\u001b[0m\u001b[0m_session\u001b[0m\u001b[1;33m.\u001b[0m\u001b[0m_session\u001b[0m\u001b[1;33m,\u001b[0m \u001b[0mself\u001b[0m\u001b[1;33m.\u001b[0m\u001b[0m_handle\u001b[0m\u001b[1;33m,\u001b[0m \u001b[0margs\u001b[0m\u001b[1;33m,\u001b[0m \u001b[0mstatus\u001b[0m\u001b[1;33m,\u001b[0m\u001b[1;33m\u001b[0m\u001b[1;33m\u001b[0m\u001b[0m\n\u001b[1;32m-> 1439\u001b[1;33m               run_metadata_ptr)\n\u001b[0m\u001b[0;32m   1440\u001b[0m         \u001b[1;32mif\u001b[0m \u001b[0mrun_metadata\u001b[0m\u001b[1;33m:\u001b[0m\u001b[1;33m\u001b[0m\u001b[1;33m\u001b[0m\u001b[0m\n\u001b[0;32m   1441\u001b[0m           \u001b[0mproto_data\u001b[0m \u001b[1;33m=\u001b[0m \u001b[0mtf_session\u001b[0m\u001b[1;33m.\u001b[0m\u001b[0mTF_GetBuffer\u001b[0m\u001b[1;33m(\u001b[0m\u001b[0mrun_metadata_ptr\u001b[0m\u001b[1;33m)\u001b[0m\u001b[1;33m\u001b[0m\u001b[1;33m\u001b[0m\u001b[0m\n",
      "\u001b[1;31mKeyboardInterrupt\u001b[0m: "
     ]
    }
   ],
   "source": [
    "IMAGE_SIZE = 128\n",
    "IMAGE_WIDTH, IMAGE_HEIGHT = IMAGE_SIZE, IMAGE_SIZE\n",
    "BATCH_SIZE = 32\n",
    "input_shape = (IMAGE_WIDTH, IMAGE_HEIGHT, 3)\n",
    "DIR = \"C:\\\\Users\\\\Familia Hernández\\\\Desktop\\\\Redes_neuronales_1-2019\\\\Laboratorio 3 - Redes Convolucionales\\\\PetImages\\\\Cat\"\n",
    "\n",
    "\n",
    "datagen = ImageDataGenerator(rescale=1.0/255.0,\n",
    "                             validation_split=0.3)\n",
    "\n",
    "# Conjunto de prueba\n",
    "training_dataset = datagen.flow_from_directory('PetImages/',\n",
    "                                               target_size=(IMAGE_SIZE, IMAGE_SIZE),\n",
    "                                               batch_size=100,\n",
    "                                               color_mode='rgb',\n",
    "                                               class_mode='binary',\n",
    "                                               shuffle=True,\n",
    "                                               subset='training')\n",
    "\n",
    "# Conjunto de validación\n",
    "validation_dataset = datagen.flow_from_directory('PetImages/',\n",
    "                                                 target_size=(IMAGE_SIZE, IMAGE_SIZE),\n",
    "                                                 batch_size=100,\n",
    "                                                 color_mode='grayscale',\n",
    "                                                 class_mode='binary',\n",
    "                                                 shuffle=True,\n",
    "                                                 subset='validation')\n",
    "\n",
    "\n",
    "\n",
    "model = Sequential()\n",
    "model.add(Conv2D(32, (7, 7), activation='relu', input_shape=input_shape))\n",
    "model.add(BatchNormalization())\n",
    "model.add(MaxPooling2D(pool_size=(2, 2)))\n",
    "\n",
    "model.add(Conv2D(64, (3, 3), activation='relu'))\n",
    "model.add(BatchNormalization())\n",
    "model.add(MaxPooling2D(pool_size=(2, 2)))\n",
    "\n",
    "model.add(Conv2D(128, (3, 3), activation='relu'))\n",
    "model.add(BatchNormalization())\n",
    "model.add(MaxPooling2D(pool_size=(2, 2)))\n",
    "\n",
    "model.add(Flatten())\n",
    "model.add(Dense(512, activation='relu'))\n",
    "model.add(BatchNormalization())\n",
    "model.add(Dropout(0.8))\n",
    "model.add(Dense(1, activation='softmax'))\n",
    "\n",
    "model.compile(loss=\"binary_crossentropy\",\n",
    "              optimizer=\"rmsprop\",\n",
    "              metrics=[\"accuracy\"])\n",
    "\n",
    "model.summary()\n",
    "\n",
    "model.fit_generator(training_dataset,\n",
    "                    steps_per_epoch=len(training_dataset),\n",
    "                    epochs = 10,\n",
    "                    validation_steps = len(validation_dataset),\n",
    "                    validation_data = validation_dataset);\n"
   ]
  },
  {
   "cell_type": "code",
   "execution_count": 20,
   "metadata": {},
   "outputs": [
    {
     "data": {
      "text/plain": [
       "175"
      ]
     },
     "execution_count": 20,
     "metadata": {},
     "output_type": "execute_result"
    }
   ],
   "source": [
    "len(training_dataset)"
   ]
  },
  {
   "cell_type": "code",
   "execution_count": 36,
   "metadata": {},
   "outputs": [
    {
     "name": "stderr",
     "output_type": "stream",
     "text": [
      "\r",
      "  0%|          | 0/12500 [00:00<?, ?it/s]"
     ]
    },
    {
     "name": "stdout",
     "output_type": "stream",
     "text": [
      "Path =>  PetImages/Cat\\0.jpg\n",
      "Path =>  PetImages/Cat\\1.jpg\n",
      "Path =>  PetImages/Cat\\10.jpg\n",
      "Path =>  PetImages/Cat\\100.jpg\n",
      "Path =>  PetImages/Cat\\1000.jpg\n",
      "Path =>  PetImages/Cat\\10000.jpg\n",
      "Path =>  PetImages/Cat\\10001.jpg\n",
      "Path =>  PetImages/Cat\\10002.jpg\n",
      "Path =>  PetImages/Cat\\10003.jpg\n",
      "Path =>  PetImages/Cat\\10004.jpg\n",
      "Path =>  PetImages/Cat\\10005.jpg\n",
      "Path =>  PetImages/Cat\\10006.jpg\n",
      "Path =>  PetImages/Cat\\10007.jpg\n",
      "Path =>  PetImages/Cat\\10008.jpg\n",
      "Path =>  PetImages/Cat\\10009.jpg\n",
      "Path =>  PetImages/Cat\\1001.jpg\n",
      "Path =>  PetImages/Cat\\10010.jpg\n",
      "Path =>  PetImages/Cat\\10011.jpg\n",
      "Path =>  PetImages/Cat\\10012.jpg\n",
      "Path =>  PetImages/Cat\\10013.jpg\n"
     ]
    },
    {
     "name": "stderr",
     "output_type": "stream",
     "text": [
      "\r",
      "  0%|          | 20/12500 [00:00<01:06, 186.92it/s]"
     ]
    },
    {
     "name": "stdout",
     "output_type": "stream",
     "text": [
      "Path =>  PetImages/Cat\\10014.jpg\n",
      "Path =>  PetImages/Cat\\10015.jpg\n",
      "Path =>  PetImages/Cat\\10016.jpg\n",
      "Path =>  PetImages/Cat\\10017.jpg\n",
      "Path =>  PetImages/Cat\\10018.jpg\n",
      "Path =>  PetImages/Cat\\10019.jpg\n",
      "Path =>  PetImages/Cat\\1002.jpg\n",
      "Path =>  PetImages/Cat\\10020.jpg\n",
      "Path =>  PetImages/Cat\\10021.jpg\n",
      "Path =>  PetImages/Cat\\10022.jpg\n",
      "Path =>  PetImages/Cat\\10023.jpg\n",
      "Path =>  PetImages/Cat\\10024.jpg\n",
      "Path =>  PetImages/Cat\\10025.jpg\n",
      "Path =>  PetImages/Cat\\10026.jpg\n",
      "Path =>  PetImages/Cat\\10027.jpg\n",
      "Path =>  PetImages/Cat\\10028.jpg\n"
     ]
    },
    {
     "name": "stderr",
     "output_type": "stream",
     "text": [
      "\r",
      "  0%|          | 36/12500 [00:00<01:10, 176.17it/s]"
     ]
    },
    {
     "name": "stdout",
     "output_type": "stream",
     "text": [
      "Path =>  PetImages/Cat\\10029.jpg\n",
      "Path =>  PetImages/Cat\\1003.jpg\n",
      "Path =>  PetImages/Cat\\10030.jpg\n",
      "Path =>  PetImages/Cat\\10031.jpg\n",
      "Path =>  PetImages/Cat\\10032.jpg\n",
      "Path =>  PetImages/Cat\\10033.jpg\n",
      "Path =>  PetImages/Cat\\10034.jpg\n",
      "Path =>  PetImages/Cat\\10035.jpg\n",
      "Path =>  PetImages/Cat\\10036.jpg\n",
      "Path =>  PetImages/Cat\\10037.jpg\n",
      "Path =>  PetImages/Cat\\10038.jpg\n",
      "Path =>  PetImages/Cat\\10039.jpg\n",
      "Path =>  PetImages/Cat\\1004.jpg\n",
      "Path =>  PetImages/Cat\\10040.jpg\n",
      "Path =>  PetImages/Cat\\10041.jpg\n",
      "Path =>  PetImages/Cat\\10042.jpg\n",
      "Path =>  PetImages/Cat\\10043.jpg\n"
     ]
    },
    {
     "name": "stderr",
     "output_type": "stream",
     "text": [
      "\r",
      "  0%|          | 53/12500 [00:00<01:12, 172.16it/s]"
     ]
    },
    {
     "name": "stdout",
     "output_type": "stream",
     "text": [
      "Path =>  PetImages/Cat\\10044.jpg\n",
      "Path =>  PetImages/Cat\\10045.jpg\n",
      "Path =>  PetImages/Cat\\10046.jpg\n",
      "Path =>  PetImages/Cat\\10047.jpg\n",
      "Path =>  PetImages/Cat\\10048.jpg\n",
      "Path =>  PetImages/Cat\\10049.jpg\n",
      "Path =>  PetImages/Cat\\1005.jpg\n",
      "Path =>  PetImages/Cat\\10050.jpg\n",
      "Path =>  PetImages/Cat\\10051.jpg\n",
      "Path =>  PetImages/Cat\\10052.jpg\n",
      "Path =>  PetImages/Cat\\10053.jpg\n",
      "Path =>  PetImages/Cat\\10054.jpg\n",
      "Path =>  PetImages/Cat\\10055.jpg\n",
      "Path =>  PetImages/Cat\\10056.jpg\n",
      "Path =>  PetImages/Cat\\10057.jpg\n",
      "Path =>  PetImages/Cat\\10058.jpg\n"
     ]
    },
    {
     "name": "stderr",
     "output_type": "stream",
     "text": [
      "\r",
      "  1%|          | 69/12500 [00:00<01:14, 167.27it/s]"
     ]
    },
    {
     "name": "stdout",
     "output_type": "stream",
     "text": [
      "Path =>  PetImages/Cat\\10059.jpg\n",
      "Path =>  PetImages/Cat\\1006.jpg\n",
      "Path =>  PetImages/Cat\\10060.jpg\n",
      "Path =>  PetImages/Cat\\10061.jpg\n",
      "Path =>  PetImages/Cat\\10062.jpg\n",
      "Path =>  PetImages/Cat\\10063.jpg\n",
      "Path =>  PetImages/Cat\\10064.jpg\n",
      "Path =>  PetImages/Cat\\10065.jpg\n",
      "Path =>  PetImages/Cat\\10066.jpg\n",
      "Path =>  PetImages/Cat\\10067.jpg\n",
      "Path =>  PetImages/Cat\\10068.jpg\n",
      "Path =>  PetImages/Cat\\10069.jpg\n",
      "Path =>  PetImages/Cat\\1007.jpg\n",
      "Path =>  PetImages/Cat\\10070.jpg\n",
      "Path =>  PetImages/Cat\\10071.jpg\n",
      "Path =>  PetImages/Cat\\10072.jpg\n",
      "Path =>  PetImages/Cat\\10073.jpg\n"
     ]
    },
    {
     "name": "stderr",
     "output_type": "stream",
     "text": [
      "\r",
      "  1%|          | 86/12500 [00:00<01:14, 167.08it/s]"
     ]
    },
    {
     "name": "stdout",
     "output_type": "stream",
     "text": [
      "Path =>  PetImages/Cat\\10074.jpg\n",
      "Path =>  PetImages/Cat\\10075.jpg\n",
      "Path =>  PetImages/Cat\\10076.jpg\n",
      "Path =>  PetImages/Cat\\10077.jpg\n",
      "Path =>  PetImages/Cat\\10078.jpg\n",
      "Path =>  PetImages/Cat\\10079.jpg\n",
      "Path =>  PetImages/Cat\\1008.jpg\n",
      "Path =>  PetImages/Cat\\10080.jpg\n",
      "Path =>  PetImages/Cat\\10081.jpg\n",
      "Path =>  PetImages/Cat\\10082.jpg\n",
      "Path =>  PetImages/Cat\\10083.jpg\n",
      "Path =>  PetImages/Cat\\10084.jpg\n",
      "Path =>  PetImages/Cat\\10085.jpg\n",
      "Path =>  PetImages/Cat\\10086.jpg\n",
      "Path =>  PetImages/Cat\\10087.jpg\n",
      "Path =>  PetImages/Cat\\10088.jpg\n",
      "Path =>  PetImages/Cat\\10089.jpg\n",
      "Path =>  PetImages/Cat\\1009.jpg\n",
      "Path =>  PetImages/Cat\\10090.jpg\n",
      "Path =>  PetImages/Cat\\10091.jpg\n"
     ]
    },
    {
     "name": "stderr",
     "output_type": "stream",
     "text": [
      "\r",
      "  1%|          | 106/12500 [00:00<01:11, 173.93it/s]"
     ]
    },
    {
     "name": "stdout",
     "output_type": "stream",
     "text": [
      "Path =>  PetImages/Cat\\10092.jpg\n",
      "Path =>  PetImages/Cat\\10093.jpg\n",
      "Path =>  PetImages/Cat\\10094.jpg\n",
      "Path =>  PetImages/Cat\\10095.jpg\n",
      "Path =>  PetImages/Cat\\10096.jpg\n",
      "Path =>  PetImages/Cat\\10097.jpg\n",
      "Path =>  PetImages/Cat\\10098.jpg\n",
      "Path =>  PetImages/Cat\\10099.jpg\n",
      "Path =>  PetImages/Cat\\101.jpg\n",
      "Path =>  PetImages/Cat\\1010.jpg\n",
      "Path =>  PetImages/Cat\\10100.jpg\n",
      "Path =>  PetImages/Cat\\10101.jpg\n",
      "Path =>  PetImages/Cat\\10102.jpg\n",
      "Path =>  PetImages/Cat\\10103.jpg\n",
      "Path =>  PetImages/Cat\\10104.jpg\n",
      "Path =>  PetImages/Cat\\10105.jpg\n",
      "Path =>  PetImages/Cat\\10106.jpg\n",
      "Path =>  PetImages/Cat\\10107.jpg\n",
      "Path =>  PetImages/Cat\\10108.jpg\n",
      "Path =>  PetImages/Cat\\10109.jpg\n",
      "Path =>  PetImages/Cat\\1011.jpg\n"
     ]
    },
    {
     "name": "stderr",
     "output_type": "stream",
     "text": [
      "\r",
      "  1%|          | 127/12500 [00:00<01:08, 181.01it/s]"
     ]
    },
    {
     "name": "stdout",
     "output_type": "stream",
     "text": [
      "Path =>  PetImages/Cat\\10110.jpg\n",
      "Path =>  PetImages/Cat\\10111.jpg\n",
      "Path =>  PetImages/Cat\\10112.jpg\n",
      "Path =>  PetImages/Cat\\10113.jpg\n",
      "Path =>  PetImages/Cat\\10114.jpg\n",
      "Path =>  PetImages/Cat\\10115.jpg\n",
      "Path =>  PetImages/Cat\\10116.jpg\n",
      "Path =>  PetImages/Cat\\10117.jpg\n",
      "Path =>  PetImages/Cat\\10118.jpg\n",
      "Path =>  PetImages/Cat\\10119.jpg\n",
      "Path =>  PetImages/Cat\\1012.jpg\n",
      "Path =>  PetImages/Cat\\10120.jpg\n",
      "Path =>  PetImages/Cat\\10121.jpg\n",
      "Path =>  PetImages/Cat\\10122.jpg\n",
      "Path =>  PetImages/Cat\\10123.jpg\n",
      "Path =>  PetImages/Cat\\10124.jpg\n",
      "Path =>  PetImages/Cat\\10125.jpg\n"
     ]
    },
    {
     "name": "stderr",
     "output_type": "stream",
     "text": [
      "\n"
     ]
    },
    {
     "ename": "error",
     "evalue": "OpenCV(3.4.1) C:\\Miniconda3\\conda-bld\\opencv-suite_1533128839831\\work\\modules\\imgproc\\src\\resize.cpp:4044: error: (-215) ssize.width > 0 && ssize.height > 0 in function cv::resize\n",
     "output_type": "error",
     "traceback": [
      "\u001b[1;31m---------------------------------------------------------------------------\u001b[0m",
      "\u001b[1;31merror\u001b[0m                                     Traceback (most recent call last)",
      "\u001b[1;32m<ipython-input-36-eb4bf65f75bb>\u001b[0m in \u001b[0;36m<module>\u001b[1;34m\u001b[0m\n\u001b[0;32m     12\u001b[0m     \u001b[1;32mreturn\u001b[0m \u001b[0mtraining_data\u001b[0m\u001b[1;33m\u001b[0m\u001b[1;33m\u001b[0m\u001b[0m\n\u001b[0;32m     13\u001b[0m \u001b[1;33m\u001b[0m\u001b[0m\n\u001b[1;32m---> 14\u001b[1;33m \u001b[0ma\u001b[0m \u001b[1;33m=\u001b[0m \u001b[0mcreate_train_data\u001b[0m\u001b[1;33m(\u001b[0m\u001b[1;33m)\u001b[0m\u001b[1;33m\u001b[0m\u001b[1;33m\u001b[0m\u001b[0m\n\u001b[0m",
      "\u001b[1;32m<ipython-input-36-eb4bf65f75bb>\u001b[0m in \u001b[0;36mcreate_train_data\u001b[1;34m()\u001b[0m\n\u001b[0;32m      6\u001b[0m         \u001b[0mprint\u001b[0m\u001b[1;33m(\u001b[0m\u001b[1;34m\"Path => \"\u001b[0m\u001b[1;33m,\u001b[0m \u001b[0mpath\u001b[0m\u001b[1;33m)\u001b[0m\u001b[1;33m\u001b[0m\u001b[1;33m\u001b[0m\u001b[0m\n\u001b[0;32m      7\u001b[0m         \u001b[0mimg\u001b[0m \u001b[1;33m=\u001b[0m \u001b[0mcv2\u001b[0m\u001b[1;33m.\u001b[0m\u001b[0mimread\u001b[0m\u001b[1;33m(\u001b[0m\u001b[0mpath\u001b[0m\u001b[1;33m,\u001b[0m\u001b[0mcv2\u001b[0m\u001b[1;33m.\u001b[0m\u001b[0mIMREAD_GRAYSCALE\u001b[0m\u001b[1;33m)\u001b[0m\u001b[1;33m\u001b[0m\u001b[1;33m\u001b[0m\u001b[0m\n\u001b[1;32m----> 8\u001b[1;33m         \u001b[0mimg\u001b[0m \u001b[1;33m=\u001b[0m \u001b[0mcv2\u001b[0m\u001b[1;33m.\u001b[0m\u001b[0mresize\u001b[0m\u001b[1;33m(\u001b[0m\u001b[0mimg\u001b[0m\u001b[1;33m,\u001b[0m \u001b[1;33m(\u001b[0m\u001b[1;36m128\u001b[0m\u001b[1;33m,\u001b[0m\u001b[1;36m128\u001b[0m\u001b[1;33m)\u001b[0m\u001b[1;33m)\u001b[0m\u001b[1;33m\u001b[0m\u001b[1;33m\u001b[0m\u001b[0m\n\u001b[0m\u001b[0;32m      9\u001b[0m         \u001b[0mtraining_data\u001b[0m\u001b[1;33m.\u001b[0m\u001b[0mappend\u001b[0m\u001b[1;33m(\u001b[0m\u001b[1;33m[\u001b[0m\u001b[0mnp\u001b[0m\u001b[1;33m.\u001b[0m\u001b[0marray\u001b[0m\u001b[1;33m(\u001b[0m\u001b[0mimg\u001b[0m\u001b[1;33m)\u001b[0m\u001b[1;33m,\u001b[0m\u001b[0mnp\u001b[0m\u001b[1;33m.\u001b[0m\u001b[0marray\u001b[0m\u001b[1;33m(\u001b[0m\u001b[0mlabel\u001b[0m\u001b[1;33m)\u001b[0m\u001b[1;33m]\u001b[0m\u001b[1;33m)\u001b[0m\u001b[1;33m\u001b[0m\u001b[1;33m\u001b[0m\u001b[0m\n\u001b[0;32m     10\u001b[0m     \u001b[0mshuffle\u001b[0m\u001b[1;33m(\u001b[0m\u001b[0mtraining_data\u001b[0m\u001b[1;33m)\u001b[0m\u001b[1;33m\u001b[0m\u001b[1;33m\u001b[0m\u001b[0m\n",
      "\u001b[1;31merror\u001b[0m: OpenCV(3.4.1) C:\\Miniconda3\\conda-bld\\opencv-suite_1533128839831\\work\\modules\\imgproc\\src\\resize.cpp:4044: error: (-215) ssize.width > 0 && ssize.height > 0 in function cv::resize\n"
     ]
    }
   ],
   "source": [
    "def create_train_data():\n",
    "    training_data = []\n",
    "    for img in tqdm(os.listdir(\"PetImages/Cat\")):\n",
    "        label = [0]\n",
    "        path = os.path.join(\"PetImages/Cat\", img)\n",
    "        print(\"Path => \", path)\n",
    "        img = cv2.imread(path,cv2.IMREAD_GRAYSCALE)\n",
    "        img = cv2.resize(img, (128,128))\n",
    "        training_data.append([np.array(img),np.array(label)])\n",
    "    shuffle(training_data)\n",
    "    np.save('train_data.npy', training_data)\n",
    "    return training_data\n",
    "\n",
    "a = create_train_data()"
   ]
  },
  {
   "cell_type": "code",
   "execution_count": null,
   "metadata": {},
   "outputs": [],
   "source": []
  }
 ],
 "metadata": {
  "kernelspec": {
   "display_name": "Python 3",
   "language": "python",
   "name": "python3"
  },
  "language_info": {
   "codemirror_mode": {
    "name": "ipython",
    "version": 3
   },
   "file_extension": ".py",
   "mimetype": "text/x-python",
   "name": "python",
   "nbconvert_exporter": "python",
   "pygments_lexer": "ipython3",
   "version": "3.7.3"
  }
 },
 "nbformat": 4,
 "nbformat_minor": 2
}
